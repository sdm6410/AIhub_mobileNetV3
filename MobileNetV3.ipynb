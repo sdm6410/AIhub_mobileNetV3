{
 "cells": [
  {
   "cell_type": "code",
   "execution_count": 7,
   "id": "35d79ec5",
   "metadata": {
    "scrolled": false
   },
   "outputs": [
    {
     "name": "stdout",
     "output_type": "stream",
     "text": [
      "Epoch 1/12\n",
      "469/469 - 2s - loss: 0.2350 - accuracy: 0.9285 - val_loss: 0.0503 - val_accuracy: 0.9832\n",
      "Epoch 2/12\n",
      "469/469 - 2s - loss: 0.0851 - accuracy: 0.9742 - val_loss: 0.0386 - val_accuracy: 0.9872\n",
      "Epoch 3/12\n",
      "469/469 - 2s - loss: 0.0634 - accuracy: 0.9803 - val_loss: 0.0335 - val_accuracy: 0.9887\n",
      "Epoch 4/12\n",
      "469/469 - 2s - loss: 0.0500 - accuracy: 0.9850 - val_loss: 0.0279 - val_accuracy: 0.9909\n",
      "Epoch 5/12\n",
      "469/469 - 2s - loss: 0.0425 - accuracy: 0.9865 - val_loss: 0.0265 - val_accuracy: 0.9909\n",
      "Epoch 6/12\n",
      "469/469 - 2s - loss: 0.0393 - accuracy: 0.9874 - val_loss: 0.0309 - val_accuracy: 0.9902\n",
      "Epoch 7/12\n",
      "469/469 - 2s - loss: 0.0326 - accuracy: 0.9899 - val_loss: 0.0262 - val_accuracy: 0.9917\n",
      "Epoch 8/12\n",
      "469/469 - 2s - loss: 0.0290 - accuracy: 0.9905 - val_loss: 0.0306 - val_accuracy: 0.9903\n",
      "Epoch 9/12\n",
      "469/469 - 2s - loss: 0.0274 - accuracy: 0.9912 - val_loss: 0.0285 - val_accuracy: 0.9918\n",
      "Epoch 10/12\n",
      "469/469 - 2s - loss: 0.0233 - accuracy: 0.9922 - val_loss: 0.0272 - val_accuracy: 0.9919\n",
      "Epoch 11/12\n",
      "469/469 - 2s - loss: 0.0229 - accuracy: 0.9926 - val_loss: 0.0277 - val_accuracy: 0.9920\n",
      "Epoch 12/12\n",
      "469/469 - 2s - loss: 0.0207 - accuracy: 0.9929 - val_loss: 0.0282 - val_accuracy: 0.9911\n"
     ]
    }
   ],
   "source": [
    "import numpy as np\n",
    "import tensorflow as tf\n",
    "from tensorflow.keras.datasets import mnist\n",
    "from tensorflow.keras.models import Sequential\n",
    "from tensorflow.keras.layers import Conv2D,MaxPooling2D,Flatten,Dense,Dropout\n",
    "from tensorflow.keras.optimizers import Adam\n",
    "import matplotlib.pyplot as plt\n",
    "\n",
    "# MNIST 데이터셋을 읽고 신경망에 입력할 형태로 변환\n",
    "(x_train,y_train),(x_test,y_test)=mnist.load_data()\n",
    "x_train=x_train.reshape(60000,28,28,1)\n",
    "x_test=x_test.reshape(10000,28,28,1)\n",
    "x_train=x_train.astype(np.float32)/255.0\n",
    "x_test=x_test.astype(np.float32)/255.0\n",
    "y_train=tf.keras.utils.to_categorical(y_train,10)\n",
    "y_test=tf.keras.utils.to_categorical(y_test,10)\n",
    "\n",
    "# 신경망 모델 설계\n",
    "cnn=Sequential()\n",
    "cnn.add(Conv2D(32,(3,3),activation='relu',input_shape=(28,28,1)))\n",
    "cnn.add(Conv2D(64,(3,3),activation='relu'))\n",
    "cnn.add(MaxPooling2D(pool_size=(2,2)))\n",
    "cnn.add(Dropout(0.25))\n",
    "cnn.add(Flatten())\n",
    "cnn.add(Dense(128,activation='relu'))\n",
    "cnn.add(Dropout(0.5))\n",
    "cnn.add(Dense(10,activation='softmax'))\n",
    "\n",
    "# 신경망 모델 학습\n",
    "cnn.compile(loss='categorical_crossentropy',optimizer=Adam(),metrics=['accuracy'])\n",
    "hist=cnn.fit(x_train,y_train,batch_size=128,epochs=12,validation_data=(x_test,y_test),verbose=2)"
   ]
  },
  {
   "cell_type": "code",
   "execution_count": 19,
   "id": "ebc96862",
   "metadata": {
    "scrolled": true
   },
   "outputs": [
    {
     "name": "stdout",
     "output_type": "stream",
     "text": [
      "9 → 5\n"
     ]
    },
    {
     "data": {
      "image/png": "[encoded data removed]",
      "text/plain": [
       "<Figure size 144x144 with 1 Axes>"
      ]
     },
     "metadata": {
      "needs_background": "light"
     },
     "output_type": "display_data"
    },
    {
     "name": "stdout",
     "output_type": "stream",
     "text": [
      "9 → 4\n"
     ]
    },
    {
     "data": {
      "image/png": "[encoded data removed]",
      "text/plain": [
       "<Figure size 144x144 with 1 Axes>"
      ]
     },
     "metadata": {
      "needs_background": "light"
     },
     "output_type": "display_data"
    },
    {
     "name": "stdout",
     "output_type": "stream",
     "text": [
      "2 → 7\n"
     ]
    },
    {
     "data": {
      "image/png": "[encoded data removed]",
      "text/plain": [
       "<Figure size 144x144 with 1 Axes>"
      ]
     },
     "metadata": {
      "needs_background": "light"
     },
     "output_type": "display_data"
    },
    {
     "name": "stdout",
     "output_type": "stream",
     "text": [
      "5 → 3\n"
     ]
    },
    {
     "data": {
      "image/png": "[encoded data removed]",
      "text/plain": [
       "<Figure size 144x144 with 1 Axes>"
      ]
     },
     "metadata": {
      "needs_background": "light"
     },
     "output_type": "display_data"
    },
    {
     "name": "stdout",
     "output_type": "stream",
     "text": [
      "9 → 4\n"
     ]
    },
    {
     "data": {
      "image/png": "[encoded data removed]",
      "text/plain": [
       "<Figure size 144x144 with 1 Axes>"
      ]
     },
     "metadata": {
      "needs_background": "light"
     },
     "output_type": "display_data"
    },
    {
     "name": "stdout",
     "output_type": "stream",
     "text": [
      "6 → 0\n"
     ]
    },
    {
     "data": {
      "image/png": "[encoded data removed]",
      "text/plain": [
       "<Figure size 144x144 with 1 Axes>"
      ]
     },
     "metadata": {
      "needs_background": "light"
     },
     "output_type": "display_data"
    },
    {
     "name": "stdout",
     "output_type": "stream",
     "text": [
      "8 → 2\n"
     ]
    },
    {
     "data": {
      "image/png": "[encoded data removed]",
      "text/plain": [
       "<Figure size 144x144 with 1 Axes>"
      ]
     },
     "metadata": {
      "needs_background": "light"
     },
     "output_type": "display_data"
    },
    {
     "name": "stdout",
     "output_type": "stream",
     "text": [
      "9 → 7\n"
     ]
    },
    {
     "data": {
      "image/png": "[encoded data removed]",
      "text/plain": [
       "<Figure size 144x144 with 1 Axes>"
      ]
     },
     "metadata": {
      "needs_background": "light"
     },
     "output_type": "display_data"
    },
    {
     "name": "stdout",
     "output_type": "stream",
     "text": [
      "8 → 9\n"
     ]
    },
    {
     "data": {
      "image/png": "[encoded data removed]",
      "text/plain": [
       "<Figure size 144x144 with 1 Axes>"
      ]
     },
     "metadata": {
      "needs_background": "light"
     },
     "output_type": "display_data"
    },
    {
     "name": "stdout",
     "output_type": "stream",
     "text": [
      "6 → 5\n"
     ]
    },
    {
     "data": {
      "image/png": "[encoded data removed]",
      "text/plain": [
       "<Figure size 144x144 with 1 Axes>"
      ]
     },
     "metadata": {
      "needs_background": "light"
     },
     "output_type": "display_data"
    },
    {
     "name": "stdout",
     "output_type": "stream",
     "text": [
      "7 → 3\n"
     ]
    },
    {
     "data": {
      "image/png": "[encoded data removed]",
      "text/plain": [
       "<Figure size 144x144 with 1 Axes>"
      ]
     },
     "metadata": {
      "needs_background": "light"
     },
     "output_type": "display_data"
    },
    {
     "name": "stdout",
     "output_type": "stream",
     "text": [
      "4 → 6\n"
     ]
    },
    {
     "data": {
      "image/png": "[encoded data removed]",
      "text/plain": [
       "<Figure size 144x144 with 1 Axes>"
      ]
     },
     "metadata": {
      "needs_background": "light"
     },
     "output_type": "display_data"
    },
    {
     "name": "stdout",
     "output_type": "stream",
     "text": [
      "6 → 5\n"
     ]
    },
    {
     "data": {
      "image/png": "[encoded data removed]",
      "text/plain": [
       "<Figure size 144x144 with 1 Axes>"
      ]
     },
     "metadata": {
      "needs_background": "light"
     },
     "output_type": "display_data"
    },
    {
     "name": "stdout",
     "output_type": "stream",
     "text": [
      "7 → 2\n"
     ]
    },
    {
     "data": {
      "image/png": "[encoded data removed]",
      "text/plain": [
       "<Figure size 144x144 with 1 Axes>"
      ]
     },
     "metadata": {
      "needs_background": "light"
     },
     "output_type": "display_data"
    },
    {
     "name": "stdout",
     "output_type": "stream",
     "text": [
      "9 → 4\n"
     ]
    },
    {
     "data": {
      "image/png": "[encoded data removed]",
      "text/plain": [
       "<Figure size 144x144 with 1 Axes>"
      ]
     },
     "metadata": {
      "needs_background": "light"
     },
     "output_type": "display_data"
    },
    {
     "name": "stdout",
     "output_type": "stream",
     "text": [
      "4 → 9\n"
     ]
    },
    {
     "data": {
      "image/png": "[encoded data removed]",
      "text/plain": [
       "<Figure size 144x144 with 1 Axes>"
      ]
     },
     "metadata": {
      "needs_background": "light"
     },
     "output_type": "display_data"
    },
    {
     "name": "stdout",
     "output_type": "stream",
     "text": [
      "9 → 5\n"
     ]
    },
    {
     "data": {
      "image/png": "[encoded data removed]",
      "text/plain": [
       "<Figure size 144x144 with 1 Axes>"
      ]
     },
     "metadata": {
      "needs_background": "light"
     },
     "output_type": "display_data"
    },
    {
     "name": "stdout",
     "output_type": "stream",
     "text": [
      "5 → 3\n"
     ]
    },
    {
     "data": {
      "image/png": "[encoded data removed]",
      "text/plain": [
       "<Figure size 144x144 with 1 Axes>"
      ]
     },
     "metadata": {
      "needs_background": "light"
     },
     "output_type": "display_data"
    },
    {
     "name": "stdout",
     "output_type": "stream",
     "text": [
      "2 → 3\n"
     ]
    },
    {
     "data": {
      "image/png": "[encoded data removed]",
      "text/plain": [
       "<Figure size 144x144 with 1 Axes>"
      ]
     },
     "metadata": {
      "needs_background": "light"
     },
     "output_type": "display_data"
    },
    {
     "name": "stdout",
     "output_type": "stream",
     "text": [
      "8 → 7\n"
     ]
    },
    {
     "data": {
      "image/png": "[encoded data removed]",
      "text/plain": [
       "<Figure size 144x144 with 1 Axes>"
      ]
     },
     "metadata": {
      "needs_background": "light"
     },
     "output_type": "display_data"
    },
    {
     "name": "stdout",
     "output_type": "stream",
     "text": [
      "0 → 6\n"
     ]
    },
    {
     "data": {
      "image/png": "[encoded data removed]",
      "text/plain": [
       "<Figure size 144x144 with 1 Axes>"
      ]
     },
     "metadata": {
      "needs_background": "light"
     },
     "output_type": "display_data"
    },
    {
     "name": "stdout",
     "output_type": "stream",
     "text": [
      "9 → 5\n"
     ]
    },
    {
     "data": {
      "image/png": "[encoded data removed]",
      "text/plain": [
       "<Figure size 144x144 with 1 Axes>"
      ]
     },
     "metadata": {
      "needs_background": "light"
     },
     "output_type": "display_data"
    },
    {
     "name": "stdout",
     "output_type": "stream",
     "text": [
      "2 → 7\n"
     ]
    },
    {
     "data": {
      "image/png": "[encoded data removed]",
      "text/plain": [
       "<Figure size 144x144 with 1 Axes>"
      ]
     },
     "metadata": {
      "needs_background": "light"
     },
     "output_type": "display_data"
    },
    {
     "name": "stdout",
     "output_type": "stream",
     "text": [
      "8 → 3\n"
     ]
    },
    {
     "data": {
      "image/png": "[encoded data removed]",
      "text/plain": [
       "<Figure size 144x144 with 1 Axes>"
      ]
     },
     "metadata": {
      "needs_background": "light"
     },
     "output_type": "display_data"
    },
    {
     "name": "stdout",
     "output_type": "stream",
     "text": [
      "9 → 4\n"
     ]
    },
    {
     "data": {
      "image/png": "[encoded data removed]",
      "text/plain": [
       "<Figure size 144x144 with 1 Axes>"
      ]
     },
     "metadata": {
      "needs_background": "light"
     },
     "output_type": "display_data"
    },
    {
     "name": "stdout",
     "output_type": "stream",
     "text": [
      "5 → 3\n"
     ]
    },
    {
     "data": {
      "image/png": "[encoded data removed]",
      "text/plain": [
       "<Figure size 144x144 with 1 Axes>"
      ]
     },
     "metadata": {
      "needs_background": "light"
     },
     "output_type": "display_data"
    },
    {
     "name": "stdout",
     "output_type": "stream",
     "text": [
      "7 → 9\n"
     ]
    },
    {
     "data": {
      "image/png": "[encoded data removed]",
      "text/plain": [
       "<Figure size 144x144 with 1 Axes>"
      ]
     },
     "metadata": {
      "needs_background": "light"
     },
     "output_type": "display_data"
    },
    {
     "name": "stdout",
     "output_type": "stream",
     "text": [
      "6 → 0\n"
     ]
    },
    {
     "data": {
      "image/png": "[encoded data removed]",
      "text/plain": [
       "<Figure size 144x144 with 1 Axes>"
      ]
     },
     "metadata": {
      "needs_background": "light"
     },
     "output_type": "display_data"
    },
    {
     "name": "stdout",
     "output_type": "stream",
     "text": [
      "9 → 8\n"
     ]
    },
    {
     "data": {
      "image/png": "[encoded data removed]",
      "text/plain": [
       "<Figure size 144x144 with 1 Axes>"
      ]
     },
     "metadata": {
      "needs_background": "light"
     },
     "output_type": "display_data"
    },
    {
     "name": "stdout",
     "output_type": "stream",
     "text": [
      "4 → 9\n"
     ]
    },
    {
     "data": {
      "image/png": "[encoded data removed]",
      "text/plain": [
       "<Figure size 144x144 with 1 Axes>"
      ]
     },
     "metadata": {
      "needs_background": "light"
     },
     "output_type": "display_data"
    },
    {
     "name": "stdout",
     "output_type": "stream",
     "text": [
      "6 → 1\n"
     ]
    },
    {
     "data": {
      "image/png": "[encoded data removed]",
      "text/plain": [
       "<Figure size 144x144 with 1 Axes>"
      ]
     },
     "metadata": {
      "needs_background": "light"
     },
     "output_type": "display_data"
    },
    {
     "name": "stdout",
     "output_type": "stream",
     "text": [
      "9 → 4\n"
     ]
    },
    {
     "data": {
      "image/png": "[encoded data removed]",
      "text/plain": [
       "<Figure size 144x144 with 1 Axes>"
      ]
     },
     "metadata": {
      "needs_background": "light"
     },
     "output_type": "display_data"
    },
    {
     "name": "stdout",
     "output_type": "stream",
     "text": [
      "9 → 4\n"
     ]
    },
    {
     "data": {
      "image/png": "[encoded data removed]",
      "text/plain": [
       "<Figure size 144x144 with 1 Axes>"
      ]
     },
     "metadata": {
      "needs_background": "light"
     },
     "output_type": "display_data"
    },
    {
     "name": "stdout",
     "output_type": "stream",
     "text": [
      "6 → 5\n"
     ]
    },
    {
     "data": {
      "image/png": "[encoded data removed]",
      "text/plain": [
       "<Figure size 144x144 with 1 Axes>"
      ]
     },
     "metadata": {
      "needs_background": "light"
     },
     "output_type": "display_data"
    },
    {
     "name": "stdout",
     "output_type": "stream",
     "text": [
      "2 → 0\n"
     ]
    },
    {
     "data": {
      "image/png": "[encoded data removed]",
      "text/plain": [
       "<Figure size 144x144 with 1 Axes>"
      ]
     },
     "metadata": {
      "needs_background": "light"
     },
     "output_type": "display_data"
    },
    {
     "name": "stdout",
     "output_type": "stream",
     "text": [
      "5 → 3\n"
     ]
    },
    {
     "data": {
      "image/png": "[encoded data removed]",
      "text/plain": [
       "<Figure size 144x144 with 1 Axes>"
      ]
     },
     "metadata": {
      "needs_background": "light"
     },
     "output_type": "display_data"
    },
    {
     "name": "stdout",
     "output_type": "stream",
     "text": [
      "6 → 1\n"
     ]
    },
    {
     "data": {
      "image/png": "[encoded data removed]",
      "text/plain": [
       "<Figure size 144x144 with 1 Axes>"
      ]
     },
     "metadata": {
      "needs_background": "light"
     },
     "output_type": "display_data"
    },
    {
     "name": "stdout",
     "output_type": "stream",
     "text": [
      "8 → 0\n"
     ]
    },
    {
     "data": {
      "image/png": "[encoded data removed]",
      "text/plain": [
       "<Figure size 144x144 with 1 Axes>"
      ]
     },
     "metadata": {
      "needs_background": "light"
     },
     "output_type": "display_data"
    },
    {
     "name": "stdout",
     "output_type": "stream",
     "text": [
      "3 → 2\n"
     ]
    },
    {
     "data": {
      "image/png": "[encoded data removed]",
      "text/plain": [
       "<Figure size 144x144 with 1 Axes>"
      ]
     },
     "metadata": {
      "needs_background": "light"
     },
     "output_type": "display_data"
    },
    {
     "name": "stdout",
     "output_type": "stream",
     "text": [
      "9 → 5\n"
     ]
    },
    {
     "data": {
      "image/png": "[encoded data removed]",
      "text/plain": [
       "<Figure size 144x144 with 1 Axes>"
      ]
     },
     "metadata": {
      "needs_background": "light"
     },
     "output_type": "display_data"
    },
    {
     "name": "stdout",
     "output_type": "stream",
     "text": [
      "3 → 5\n"
     ]
    },
    {
     "data": {
      "image/png": "[encoded data removed]",
      "text/plain": [
       "<Figure size 144x144 with 1 Axes>"
      ]
     },
     "metadata": {
      "needs_background": "light"
     },
     "output_type": "display_data"
    },
    {
     "name": "stdout",
     "output_type": "stream",
     "text": [
      "9 → 7\n"
     ]
    },
    {
     "data": {
      "image/png": "[encoded data removed]",
      "text/plain": [
       "<Figure size 144x144 with 1 Axes>"
      ]
     },
     "metadata": {
      "needs_background": "light"
     },
     "output_type": "display_data"
    },
    {
     "name": "stdout",
     "output_type": "stream",
     "text": [
      "1 → 2\n"
     ]
    },
    {
     "data": {
      "image/png": "[encoded data removed]",
      "text/plain": [
       "<Figure size 144x144 with 1 Axes>"
      ]
     },
     "metadata": {
      "needs_background": "light"
     },
     "output_type": "display_data"
    },
    {
     "name": "stdout",
     "output_type": "stream",
     "text": [
      "7 → 9\n"
     ]
    },
    {
     "data": {
      "image/png": "[encoded data removed]",
      "text/plain": [
       "<Figure size 144x144 with 1 Axes>"
      ]
     },
     "metadata": {
      "needs_background": "light"
     },
     "output_type": "display_data"
    },
    {
     "name": "stdout",
     "output_type": "stream",
     "text": [
      "9 → 1\n"
     ]
    },
    {
     "data": {
      "image/png": "[encoded data removed]",
      "text/plain": [
       "<Figure size 144x144 with 1 Axes>"
      ]
     },
     "metadata": {
      "needs_background": "light"
     },
     "output_type": "display_data"
    },
    {
     "name": "stdout",
     "output_type": "stream",
     "text": [
      "6 → 4\n"
     ]
    },
    {
     "data": {
      "image/png": "[encoded data removed]",
      "text/plain": [
       "<Figure size 144x144 with 1 Axes>"
      ]
     },
     "metadata": {
      "needs_background": "light"
     },
     "output_type": "display_data"
    },
    {
     "name": "stdout",
     "output_type": "stream",
     "text": [
      "5 → 2\n"
     ]
    },
    {
     "data": {
      "image/png": "[encoded data removed]",
      "text/plain": [
       "<Figure size 144x144 with 1 Axes>"
      ]
     },
     "metadata": {
      "needs_background": "light"
     },
     "output_type": "display_data"
    },
    {
     "name": "stdout",
     "output_type": "stream",
     "text": [
      "7 → 8\n"
     ]
    },
    {
     "data": {
      "image/png": "[encoded data removed]",
      "text/plain": [
       "<Figure size 144x144 with 1 Axes>"
      ]
     },
     "metadata": {
      "needs_background": "light"
     },
     "output_type": "display_data"
    },
    {
     "name": "stdout",
     "output_type": "stream",
     "text": [
      "9 → 4\n"
     ]
    },
    {
     "data": {
      "image/png": "[encoded data removed]",
      "text/plain": [
       "<Figure size 144x144 with 1 Axes>"
      ]
     },
     "metadata": {
      "needs_background": "light"
     },
     "output_type": "display_data"
    },
    {
     "name": "stdout",
     "output_type": "stream",
     "text": [
      "6 → 8\n"
     ]
    },
    {
     "data": {
      "image/png": "[encoded data removed]",
      "text/plain": [
       "<Figure size 144x144 with 1 Axes>"
      ]
     },
     "metadata": {
      "needs_background": "light"
     },
     "output_type": "display_data"
    },
    {
     "name": "stdout",
     "output_type": "stream",
     "text": [
      "1 → 3\n"
     ]
    },
    {
     "data": {
      "image/png": "[encoded data removed]",
      "text/plain": [
       "<Figure size 144x144 with 1 Axes>"
      ]
     },
     "metadata": {
      "needs_background": "light"
     },
     "output_type": "display_data"
    },
    {
     "name": "stdout",
     "output_type": "stream",
     "text": [
      "4 → 6\n"
     ]
    },
    {
     "data": {
      "image/png": "[encoded data removed]",
      "text/plain": [
       "<Figure size 144x144 with 1 Axes>"
      ]
     },
     "metadata": {
      "needs_background": "light"
     },
     "output_type": "display_data"
    },
    {
     "name": "stdout",
     "output_type": "stream",
     "text": [
      "9 → 5\n"
     ]
    },
    {
     "data": {
      "image/png": "[encoded data removed]",
      "text/plain": [
       "<Figure size 144x144 with 1 Axes>"
      ]
     },
     "metadata": {
      "needs_background": "light"
     },
     "output_type": "display_data"
    },
    {
     "name": "stdout",
     "output_type": "stream",
     "text": [
      "9 → 4\n"
     ]
    },
    {
     "data": {
      "image/png": "[encoded data removed]",
      "text/plain": [
       "<Figure size 144x144 with 1 Axes>"
      ]
     },
     "metadata": {
      "needs_background": "light"
     },
     "output_type": "display_data"
    },
    {
     "name": "stdout",
     "output_type": "stream",
     "text": [
      "8 → 2\n"
     ]
    },
    {
     "data": {
      "image/png": "[encoded data removed]",
      "text/plain": [
       "<Figure size 144x144 with 1 Axes>"
      ]
     },
     "metadata": {
      "needs_background": "light"
     },
     "output_type": "display_data"
    },
    {
     "name": "stdout",
     "output_type": "stream",
     "text": [
      "6 → 5\n"
     ]
    },
    {
     "data": {
      "image/png": "[encoded data removed]",
      "text/plain": [
       "<Figure size 144x144 with 1 Axes>"
      ]
     },
     "metadata": {
      "needs_background": "light"
     },
     "output_type": "display_data"
    },
    {
     "name": "stdout",
     "output_type": "stream",
     "text": [
      "8 → 9\n"
     ]
    },
    {
     "data": {
      "image/png": "[encoded data removed]",
      "text/plain": [
       "<Figure size 144x144 with 1 Axes>"
      ]
     },
     "metadata": {
      "needs_background": "light"
     },
     "output_type": "display_data"
    },
    {
     "name": "stdout",
     "output_type": "stream",
     "text": [
      "3 → 5\n"
     ]
    },
    {
     "data": {
      "image/png": "[encoded data removed]",
      "text/plain": [
       "<Figure size 144x144 with 1 Axes>"
      ]
     },
     "metadata": {
      "needs_background": "light"
     },
     "output_type": "display_data"
    },
    {
     "name": "stdout",
     "output_type": "stream",
     "text": [
      "9 → 8\n"
     ]
    },
    {
     "data": {
      "image/png": "[encoded data removed]",
      "text/plain": [
       "<Figure size 144x144 with 1 Axes>"
      ]
     },
     "metadata": {
      "needs_background": "light"
     },
     "output_type": "display_data"
    },
    {
     "name": "stdout",
     "output_type": "stream",
     "text": [
      "9 → 4\n"
     ]
    },
    {
     "data": {
      "image/png": "[encoded data removed]",
      "text/plain": [
       "<Figure size 144x144 with 1 Axes>"
      ]
     },
     "metadata": {
      "needs_background": "light"
     },
     "output_type": "display_data"
    },
    {
     "name": "stdout",
     "output_type": "stream",
     "text": [
      "6 → 5\n"
     ]
    },
    {
     "data": {
      "image/png": "[encoded data removed]",
      "text/plain": [
       "<Figure size 144x144 with 1 Axes>"
      ]
     },
     "metadata": {
      "needs_background": "light"
     },
     "output_type": "display_data"
    },
    {
     "name": "stdout",
     "output_type": "stream",
     "text": [
      "8 → 4\n"
     ]
    },
    {
     "data": {
      "image/png": "[encoded data removed]",
      "text/plain": [
       "<Figure size 144x144 with 1 Axes>"
      ]
     },
     "metadata": {
      "needs_background": "light"
     },
     "output_type": "display_data"
    },
    {
     "name": "stdout",
     "output_type": "stream",
     "text": [
      "7 → 2\n"
     ]
    },
    {
     "data": {
      "image/png": "[encoded data removed]",
      "text/plain": [
       "<Figure size 144x144 with 1 Axes>"
      ]
     },
     "metadata": {
      "needs_background": "light"
     },
     "output_type": "display_data"
    },
    {
     "name": "stdout",
     "output_type": "stream",
     "text": [
      "1 → 6\n"
     ]
    },
    {
     "data": {
      "image/png": "[encoded data removed]",
      "text/plain": [
       "<Figure size 144x144 with 1 Axes>"
      ]
     },
     "metadata": {
      "needs_background": "light"
     },
     "output_type": "display_data"
    },
    {
     "name": "stdout",
     "output_type": "stream",
     "text": [
      "1 → 5\n"
     ]
    },
    {
     "data": {
      "image/png": "[encoded data removed]",
      "text/plain": [
       "<Figure size 144x144 with 1 Axes>"
      ]
     },
     "metadata": {
      "needs_background": "light"
     },
     "output_type": "display_data"
    },
    {
     "name": "stdout",
     "output_type": "stream",
     "text": [
      "5 → 3\n"
     ]
    },
    {
     "data": {
      "image/png": "[encoded data removed]",
      "text/plain": [
       "<Figure size 144x144 with 1 Axes>"
      ]
     },
     "metadata": {
      "needs_background": "light"
     },
     "output_type": "display_data"
    },
    {
     "name": "stdout",
     "output_type": "stream",
     "text": [
      "3 → 8\n"
     ]
    },
    {
     "data": {
      "image/png": "[encoded data removed]",
      "text/plain": [
       "<Figure size 144x144 with 1 Axes>"
      ]
     },
     "metadata": {
      "needs_background": "light"
     },
     "output_type": "display_data"
    },
    {
     "name": "stdout",
     "output_type": "stream",
     "text": [
      "9 → 5\n"
     ]
    },
    {
     "data": {
      "image/png": "[encoded data removed]",
      "text/plain": [
       "<Figure size 144x144 with 1 Axes>"
      ]
     },
     "metadata": {
      "needs_background": "light"
     },
     "output_type": "display_data"
    },
    {
     "name": "stdout",
     "output_type": "stream",
     "text": [
      "9 → 5\n"
     ]
    },
    {
     "data": {
      "image/png": "[encoded data removed]",
      "text/plain": [
       "<Figure size 144x144 with 1 Axes>"
      ]
     },
     "metadata": {
      "needs_background": "light"
     },
     "output_type": "display_data"
    },
    {
     "name": "stdout",
     "output_type": "stream",
     "text": [
      "9 → 5\n"
     ]
    },
    {
     "data": {
      "image/png": "[encoded data removed]",
      "text/plain": [
       "<Figure size 144x144 with 1 Axes>"
      ]
     },
     "metadata": {
      "needs_background": "light"
     },
     "output_type": "display_data"
    },
    {
     "name": "stdout",
     "output_type": "stream",
     "text": [
      "9 → 5\n"
     ]
    },
    {
     "data": {
      "image/png": "[encoded data removed]",
      "text/plain": [
       "<Figure size 144x144 with 1 Axes>"
      ]
     },
     "metadata": {
      "needs_background": "light"
     },
     "output_type": "display_data"
    },
    {
     "name": "stdout",
     "output_type": "stream",
     "text": [
      "9 → 5\n"
     ]
    },
    {
     "data": {
      "image/png": "[encoded data removed]",
      "text/plain": [
       "<Figure size 144x144 with 1 Axes>"
      ]
     },
     "metadata": {
      "needs_background": "light"
     },
     "output_type": "display_data"
    },
    {
     "name": "stdout",
     "output_type": "stream",
     "text": [
      "9 → 5\n"
     ]
    },
    {
     "data": {
      "image/png": "[encoded data removed]",
      "text/plain": [
       "<Figure size 144x144 with 1 Axes>"
      ]
     },
     "metadata": {
      "needs_background": "light"
     },
     "output_type": "display_data"
    },
    {
     "name": "stdout",
     "output_type": "stream",
     "text": [
      "7 → 1\n"
     ]
    },
    {
     "data": {
      "image/png": "[encoded data removed]",
      "text/plain": [
       "<Figure size 144x144 with 1 Axes>"
      ]
     },
     "metadata": {
      "needs_background": "light"
     },
     "output_type": "display_data"
    },
    {
     "name": "stdout",
     "output_type": "stream",
     "text": [
      "0 → 7\n"
     ]
    },
    {
     "data": {
      "image/png": "[encoded data removed]",
      "text/plain": [
       "<Figure size 144x144 with 1 Axes>"
      ]
     },
     "metadata": {
      "needs_background": "light"
     },
     "output_type": "display_data"
    },
    {
     "name": "stdout",
     "output_type": "stream",
     "text": [
      "8 → 2\n"
     ]
    },
    {
     "data": {
      "image/png": "[encoded data removed]",
      "text/plain": [
       "<Figure size 144x144 with 1 Axes>"
      ]
     },
     "metadata": {
      "needs_background": "light"
     },
     "output_type": "display_data"
    },
    {
     "name": "stdout",
     "output_type": "stream",
     "text": [
      "0 → 6\n"
     ]
    },
    {
     "data": {
      "image/png": "[encoded data removed]",
      "text/plain": [
       "<Figure size 144x144 with 1 Axes>"
      ]
     },
     "metadata": {
      "needs_background": "light"
     },
     "output_type": "display_data"
    },
    {
     "name": "stdout",
     "output_type": "stream",
     "text": [
      "7 → 2\n"
     ]
    },
    {
     "data": {
      "image/png": "[encoded data removed]",
      "text/plain": [
       "<Figure size 144x144 with 1 Axes>"
      ]
     },
     "metadata": {
      "needs_background": "light"
     },
     "output_type": "display_data"
    },
    {
     "name": "stdout",
     "output_type": "stream",
     "text": [
      "7 → 2\n"
     ]
    },
    {
     "data": {
      "image/png": "[encoded data removed]",
      "text/plain": [
       "<Figure size 144x144 with 1 Axes>"
      ]
     },
     "metadata": {
      "needs_background": "light"
     },
     "output_type": "display_data"
    },
    {
     "name": "stdout",
     "output_type": "stream",
     "text": [
      "9 → 8\n"
     ]
    },
    {
     "data": {
      "image/png": "[encoded data removed]",
      "text/plain": [
       "<Figure size 144x144 with 1 Axes>"
      ]
     },
     "metadata": {
      "needs_background": "light"
     },
     "output_type": "display_data"
    },
    {
     "name": "stdout",
     "output_type": "stream",
     "text": [
      "9 → 4\n"
     ]
    },
    {
     "data": {
      "image/png": "[encoded data removed]",
      "text/plain": [
       "<Figure size 144x144 with 1 Axes>"
      ]
     },
     "metadata": {
      "needs_background": "light"
     },
     "output_type": "display_data"
    },
    {
     "name": "stdout",
     "output_type": "stream",
     "text": [
      "6 → 5\n"
     ]
    },
    {
     "data": {
      "image/png": "[encoded data removed]",
      "text/plain": [
       "<Figure size 144x144 with 1 Axes>"
      ]
     },
     "metadata": {
      "needs_background": "light"
     },
     "output_type": "display_data"
    },
    {
     "name": "stdout",
     "output_type": "stream",
     "text": [
      "9 → 7\n"
     ]
    },
    {
     "data": {
      "image/png": "[encoded data removed]",
      "text/plain": [
       "<Figure size 144x144 with 1 Axes>"
      ]
     },
     "metadata": {
      "needs_background": "light"
     },
     "output_type": "display_data"
    },
    {
     "name": "stdout",
     "output_type": "stream",
     "text": [
      "9 → 7\n"
     ]
    },
    {
     "data": {
      "image/png": "[encoded data removed]",
      "text/plain": [
       "<Figure size 144x144 with 1 Axes>"
      ]
     },
     "metadata": {
      "needs_background": "light"
     },
     "output_type": "display_data"
    },
    {
     "name": "stdout",
     "output_type": "stream",
     "text": [
      "2 → 7\n"
     ]
    },
    {
     "data": {
      "image/png": "[encoded data removed]",
      "text/plain": [
       "<Figure size 144x144 with 1 Axes>"
      ]
     },
     "metadata": {
      "needs_background": "light"
     },
     "output_type": "display_data"
    },
    {
     "name": "stdout",
     "output_type": "stream",
     "text": [
      "6 → 1\n"
     ]
    },
    {
     "data": {
      "image/png": "[encoded data removed]",
      "text/plain": [
       "<Figure size 144x144 with 1 Axes>"
      ]
     },
     "metadata": {
      "needs_background": "light"
     },
     "output_type": "display_data"
    },
    {
     "name": "stdout",
     "output_type": "stream",
     "text": [
      "9 → 7\n"
     ]
    },
    {
     "data": {
      "image/png": "[encoded data removed]",
      "text/plain": [
       "<Figure size 144x144 with 1 Axes>"
      ]
     },
     "metadata": {
      "needs_background": "light"
     },
     "output_type": "display_data"
    },
    {
     "name": "stdout",
     "output_type": "stream",
     "text": [
      "5 → 6\n"
     ]
    },
    {
     "data": {
      "image/png": "[encoded data removed]",
      "text/plain": [
       "<Figure size 144x144 with 1 Axes>"
      ]
     },
     "metadata": {
      "needs_background": "light"
     },
     "output_type": "display_data"
    },
    {
     "name": "stdout",
     "output_type": "stream",
     "text": [
      "2 → 7\n"
     ]
    },
    {
     "data": {
      "image/png": "[encoded data removed]",
      "text/plain": [
       "<Figure size 144x144 with 1 Axes>"
      ]
     },
     "metadata": {
      "needs_background": "light"
     },
     "output_type": "display_data"
    }
   ],
   "source": [
    "#수정한 코드\n",
    "test_sample_n=10000\n",
    "\n",
    "#전체를 predict\n",
    "pred=cnn.predict(x_test) #(10000,10)\n",
    "\n",
    "#예측한 레이블을 1차원 배열로 표현\n",
    "pred_result=list(range(test_sample_n))\n",
    "for i in range(test_sample_n):\n",
    "    for j in range(10):\n",
    "        if pred[i,j]==np.max(pred[i,:]):\n",
    "            pred_result[i]=j\n",
    "#pred_result=np.argmax(pred,axis=1)\n",
    "\n",
    "#정답 레이블을 1차원 배열로 표현\n",
    "test_label=np.argmax(y_test,axis=1) #y_test.shape (10000,10)\n",
    "\n",
    "#비교 후 필요한 것을 출력\n",
    "for i in range(test_sample_n):\n",
    "    if test_label[i]!=pred_result[i]:\n",
    "        #레이블 표현\n",
    "        print(test_label[i],\"→\",pred_result[i])\n",
    "        #이미지\n",
    "        plt.figure(figsize=(2,2))\n",
    "        plt.imshow(x_test[i].reshape(28,28))\n",
    "        plt.gray()\n",
    "        plt.axis('off')\n",
    "        plt.show()"
   ]
  },
  {
   "cell_type": "code",
   "execution_count": 3,
   "id": "6f5dbe75",
   "metadata": {},
   "outputs": [
    {
     "data": {
      "text/plain": [
       "'\\n# 신경망 모델 정확률 평가\\nres=cnn.evaluate(x_test,y_test,verbose=0)\\nprint(\"정확률은\",res[1]*100)\\n\\nimport matplotlib.pyplot as plt\\n\\n# 정확률 그래프\\nplt.plot(hist.history[\\'accuracy\\'])\\nplt.plot(hist.history[\\'val_accuracy\\'])\\nplt.title(\\'Model accuracy\\')\\nplt.ylabel(\\'Accuracy\\')\\nplt.xlabel(\\'Epoch\\')\\nplt.legend([\\'Train\\',\\'Validation\\'], loc=\\'best\\')\\nplt.grid()\\nplt.show()\\n\\n# 손실 함수 그래프\\nplt.plot(hist.history[\\'loss\\'])\\nplt.plot(hist.history[\\'val_loss\\'])\\nplt.title(\\'Model loss\\')\\nplt.ylabel(\\'Loss\\')\\nplt.xlabel(\\'Epoch\\')\\nplt.legend([\\'Train\\',\\'Validation\\'], loc=\\'best\\')\\nplt.grid()\\nplt.show()\\n'"
      ]
     },
     "execution_count": 3,
     "metadata": {},
     "output_type": "execute_result"
    }
   ],
   "source": [
    "\"\"\"\n",
    "# 신경망 모델 정확률 평가\n",
    "res=cnn.evaluate(x_test,y_test,verbose=0)\n",
    "print(\"정확률은\",res[1]*100)\n",
    "\n",
    "import matplotlib.pyplot as plt\n",
    "\n",
    "# 정확률 그래프\n",
    "plt.plot(hist.history['accuracy'])\n",
    "plt.plot(hist.history['val_accuracy'])\n",
    "plt.title('Model accuracy')\n",
    "plt.ylabel('Accuracy')\n",
    "plt.xlabel('Epoch')\n",
    "plt.legend(['Train','Validation'], loc='best')\n",
    "plt.grid()\n",
    "plt.show()\n",
    "\n",
    "# 손실 함수 그래프\n",
    "plt.plot(hist.history['loss'])\n",
    "plt.plot(hist.history['val_loss'])\n",
    "plt.title('Model loss')\n",
    "plt.ylabel('Loss')\n",
    "plt.xlabel('Epoch')\n",
    "plt.legend(['Train','Validation'], loc='best')\n",
    "plt.grid()\n",
    "plt.show()\n",
    "\"\"\""
   ]
  },
  {
   "cell_type": "code",
   "execution_count": 1,
   "id": "2ed65b1e",
   "metadata": {
    "scrolled": true
   },
   "outputs": [
    {
     "name": "stdout",
     "output_type": "stream",
     "text": [
      "SGD: 0.8464333176612854\n",
      "Adam: 0.9299833297729492\n",
      "Adagrad: 0.7983166694641113\n",
      "RMSprop: 0.9289999961853027\n"
     ]
    },
    {
     "data": {
      "image/png": "[encoded data removed]",
      "text/plain": [
       "<Figure size 432x288 with 1 Axes>"
      ]
     },
     "metadata": {
      "needs_background": "light"
     },
     "output_type": "display_data"
    }
   ],
   "source": [
    "import numpy as np\n",
    "import tensorflow as tf\n",
    "from tensorflow.keras.datasets import fashion_mnist\n",
    "from tensorflow.keras.models import Sequential\n",
    "from tensorflow.keras.layers import Conv2D,MaxPooling2D,Flatten,Dense,Dropout\n",
    "from tensorflow.keras.optimizers import Adam,SGD,Adagrad,RMSprop\n",
    "from sklearn.model_selection import KFold\n",
    "\n",
    "# MNIST 데이터셋을 읽고 신경망에 입력할 형태로 변환\n",
    "(x_train,y_train),(x_test,y_test)=fashion_mnist.load_data()\n",
    "x_train=x_train.reshape(60000,28,28,1)\n",
    "x_test=x_test.reshape(10000,28,28,1)\n",
    "x_train=x_train.astype(np.float32)/255.0\n",
    "x_test=x_test.astype(np.float32)/255.0\n",
    "y_train=tf.keras.utils.to_categorical(y_train,10)\n",
    "y_test=tf.keras.utils.to_categorical(y_test,10)\n",
    "\n",
    "# 신경망 모델 설계\n",
    "def build_model():\n",
    "    model=Sequential()\n",
    "    model.add(Conv2D(32,(3,3),activation='relu',input_shape=(28,28,1)))\n",
    "    model.add(Conv2D(64,(3,3),activation='relu'))\n",
    "    model.add(MaxPooling2D(pool_size=(2,2)))\n",
    "    model.add(Dropout(0.25))\n",
    "    model.add(Flatten())\n",
    "    model.add(Dense(128,activation='relu'))\n",
    "    model.add(Dropout(0.5))\n",
    "    model.add(Dense(10,activation='softmax'))\n",
    "    return model\n",
    "\n",
    "# 하이퍼 파라미터\n",
    "batch_siz=256\n",
    "n_epoch=20\n",
    "k=5\n",
    "\n",
    "# 교차 검증을 해주는 함수(서로 다른 옵티마이저(opt)에 대해)\n",
    "def cross_validation(opt):\n",
    "    accuracy=[]\n",
    "    for train_index,val_index in KFold(k).split(x_train):\n",
    "        xtrain,xval=x_train[train_index],x_train[val_index]\n",
    "        ytrain,yval=y_train[train_index],y_train[val_index]\n",
    "        cnn=build_model()\n",
    "        cnn.compile(loss='categorical_crossentropy',optimizer=opt,metrics=['accuracy'])\n",
    "        cnn.fit(xtrain,ytrain,batch_size=batch_siz,epochs=n_epoch,verbose=0)\n",
    "        accuracy.append(cnn.evaluate(xval,yval,verbose=0)[1])\n",
    "    return accuracy\n",
    "\n",
    "# 옵티마이저 4개에 대해 교차 검증을 실행\n",
    "acc_sgd=cross_validation(SGD())\n",
    "acc_adam=cross_validation(Adam())\n",
    "acc_adagrad=cross_validation(Adagrad())\n",
    "acc_rmsprop=cross_validation(RMSprop())\n",
    "\n",
    "# 옵티마이저 4개의 정확률을 비교\n",
    "print(\"SGD:\",np.array(acc_sgd).mean())\n",
    "print(\"Adam:\",np.array(acc_adam).mean())\n",
    "print(\"Adagrad:\",np.array(acc_adagrad).mean())\n",
    "print(\"RMSprop:\",np.array(acc_rmsprop).mean())\n",
    "\n",
    "import matplotlib.pyplot as plt\n",
    "\n",
    "# 네 옵티마이저의 정확률을 박스플롯으로 비교\n",
    "plt.boxplot([acc_sgd,acc_adam,acc_adagrad,acc_rmsprop],labels=[\"SGD\",\"Adam\",\"Adagrad\",\"RMSprop\"])\n",
    "plt.grid()"
   ]
  },
  {
   "cell_type": "code",
   "execution_count": 63,
   "id": "dd03a1a2",
   "metadata": {},
   "outputs": [
    {
     "name": "stdout",
     "output_type": "stream",
     "text": [
      "(50000, 32, 32, 3) (10000, 32, 32, 3) (50000, 10) (10000, 10)\n",
      "(50000, 32, 32, 3) (10000, 32, 32, 3) (50000, 10) (10000, 10)\n",
      "Epoch 1/100\n",
      "391/391 - 3s - loss: 1.7838 - accuracy: 0.3506 - val_loss: 1.4587 - val_accuracy: 0.4789\n",
      "Epoch 2/100\n",
      "391/391 - 2s - loss: 1.4631 - accuracy: 0.4744 - val_loss: 1.3489 - val_accuracy: 0.5196\n",
      "Epoch 3/100\n",
      "391/391 - 2s - loss: 1.3486 - accuracy: 0.5213 - val_loss: 1.2493 - val_accuracy: 0.5500\n",
      "Epoch 4/100\n",
      "391/391 - 2s - loss: 1.2570 - accuracy: 0.5510 - val_loss: 1.1471 - val_accuracy: 0.5897\n",
      "Epoch 5/100\n",
      "391/391 - 2s - loss: 1.1957 - accuracy: 0.5764 - val_loss: 1.1138 - val_accuracy: 0.6001\n",
      "Epoch 6/100\n",
      "391/391 - 2s - loss: 1.1479 - accuracy: 0.5951 - val_loss: 1.0818 - val_accuracy: 0.6126\n",
      "Epoch 7/100\n",
      "391/391 - 2s - loss: 1.1016 - accuracy: 0.6150 - val_loss: 1.0790 - val_accuracy: 0.6095\n",
      "Epoch 8/100\n",
      "391/391 - 2s - loss: 1.0656 - accuracy: 0.6222 - val_loss: 1.0343 - val_accuracy: 0.6319\n",
      "Epoch 9/100\n",
      "391/391 - 2s - loss: 1.0393 - accuracy: 0.6336 - val_loss: 1.0540 - val_accuracy: 0.6252\n",
      "Epoch 10/100\n",
      "391/391 - 2s - loss: 1.0133 - accuracy: 0.6407 - val_loss: 0.9871 - val_accuracy: 0.6563\n",
      "Epoch 11/100\n",
      "391/391 - 2s - loss: 0.9837 - accuracy: 0.6530 - val_loss: 0.9715 - val_accuracy: 0.6592\n",
      "Epoch 12/100\n",
      "391/391 - 2s - loss: 0.9627 - accuracy: 0.6604 - val_loss: 0.9696 - val_accuracy: 0.6622\n",
      "Epoch 13/100\n",
      "391/391 - 2s - loss: 0.9400 - accuracy: 0.6689 - val_loss: 0.9824 - val_accuracy: 0.6544\n",
      "Epoch 14/100\n",
      "391/391 - 2s - loss: 0.9232 - accuracy: 0.6721 - val_loss: 0.9490 - val_accuracy: 0.6727\n",
      "Epoch 15/100\n",
      "391/391 - 2s - loss: 0.9092 - accuracy: 0.6784 - val_loss: 0.9550 - val_accuracy: 0.6700\n",
      "Epoch 16/100\n",
      "391/391 - 2s - loss: 0.8931 - accuracy: 0.6829 - val_loss: 0.9793 - val_accuracy: 0.6626\n",
      "Epoch 17/100\n",
      "391/391 - 2s - loss: 0.8758 - accuracy: 0.6909 - val_loss: 0.9485 - val_accuracy: 0.6712\n",
      "Epoch 18/100\n",
      "391/391 - 2s - loss: 0.8599 - accuracy: 0.6926 - val_loss: 0.9538 - val_accuracy: 0.6718\n",
      "Epoch 19/100\n",
      "391/391 - 2s - loss: 0.8480 - accuracy: 0.6991 - val_loss: 0.9428 - val_accuracy: 0.6755\n",
      "Epoch 20/100\n",
      "391/391 - 2s - loss: 0.8392 - accuracy: 0.7031 - val_loss: 0.9544 - val_accuracy: 0.6791\n",
      "Epoch 21/100\n",
      "391/391 - 2s - loss: 0.8217 - accuracy: 0.7076 - val_loss: 0.9444 - val_accuracy: 0.6777\n",
      "Epoch 22/100\n",
      "391/391 - 2s - loss: 0.8192 - accuracy: 0.7069 - val_loss: 0.9571 - val_accuracy: 0.6792\n",
      "Epoch 23/100\n",
      "391/391 - 2s - loss: 0.8044 - accuracy: 0.7155 - val_loss: 0.9398 - val_accuracy: 0.6785\n",
      "Epoch 24/100\n",
      "391/391 - 2s - loss: 0.7990 - accuracy: 0.7161 - val_loss: 0.9835 - val_accuracy: 0.6646\n",
      "Epoch 25/100\n",
      "391/391 - 2s - loss: 0.7855 - accuracy: 0.7205 - val_loss: 0.9488 - val_accuracy: 0.6771\n",
      "Epoch 26/100\n",
      "391/391 - 2s - loss: 0.7761 - accuracy: 0.7228 - val_loss: 0.9355 - val_accuracy: 0.6832\n",
      "Epoch 27/100\n",
      "391/391 - 2s - loss: 0.7681 - accuracy: 0.7240 - val_loss: 0.9561 - val_accuracy: 0.6753\n",
      "Epoch 28/100\n",
      "391/391 - 2s - loss: 0.7610 - accuracy: 0.7306 - val_loss: 0.9402 - val_accuracy: 0.6785\n",
      "Epoch 29/100\n",
      "391/391 - 2s - loss: 0.7553 - accuracy: 0.7313 - val_loss: 0.9194 - val_accuracy: 0.6861\n",
      "Epoch 30/100\n",
      "391/391 - 2s - loss: 0.7468 - accuracy: 0.7348 - val_loss: 0.9199 - val_accuracy: 0.6824\n",
      "Epoch 31/100\n",
      "391/391 - 2s - loss: 0.7357 - accuracy: 0.7351 - val_loss: 0.9370 - val_accuracy: 0.6823\n",
      "Epoch 32/100\n",
      "391/391 - 2s - loss: 0.7352 - accuracy: 0.7387 - val_loss: 0.9529 - val_accuracy: 0.6835\n",
      "Epoch 33/100\n",
      "391/391 - 2s - loss: 0.7205 - accuracy: 0.7425 - val_loss: 0.9412 - val_accuracy: 0.6809\n",
      "Epoch 34/100\n",
      "391/391 - 2s - loss: 0.7244 - accuracy: 0.7409 - val_loss: 0.9379 - val_accuracy: 0.6839\n",
      "Epoch 35/100\n",
      "391/391 - 2s - loss: 0.7132 - accuracy: 0.7479 - val_loss: 0.9505 - val_accuracy: 0.6808\n",
      "Epoch 36/100\n",
      "391/391 - 2s - loss: 0.7058 - accuracy: 0.7476 - val_loss: 0.9227 - val_accuracy: 0.6908\n",
      "Epoch 37/100\n",
      "391/391 - 2s - loss: 0.7075 - accuracy: 0.7472 - val_loss: 0.9367 - val_accuracy: 0.6899\n",
      "Epoch 38/100\n",
      "391/391 - 2s - loss: 0.6963 - accuracy: 0.7506 - val_loss: 0.9397 - val_accuracy: 0.6831\n",
      "Epoch 39/100\n",
      "391/391 - 2s - loss: 0.6921 - accuracy: 0.7523 - val_loss: 0.9480 - val_accuracy: 0.6857\n",
      "Epoch 40/100\n",
      "391/391 - 2s - loss: 0.6843 - accuracy: 0.7534 - val_loss: 0.9468 - val_accuracy: 0.6822\n",
      "Epoch 41/100\n",
      "391/391 - 2s - loss: 0.6846 - accuracy: 0.7556 - val_loss: 0.9394 - val_accuracy: 0.6845\n",
      "Epoch 42/100\n",
      "391/391 - 2s - loss: 0.6793 - accuracy: 0.7554 - val_loss: 0.9272 - val_accuracy: 0.6879\n",
      "Epoch 43/100\n",
      "391/391 - 2s - loss: 0.6755 - accuracy: 0.7594 - val_loss: 0.9567 - val_accuracy: 0.6838\n",
      "Epoch 44/100\n",
      "391/391 - 2s - loss: 0.6719 - accuracy: 0.7590 - val_loss: 0.9498 - val_accuracy: 0.6835\n",
      "Epoch 45/100\n",
      "391/391 - 2s - loss: 0.6647 - accuracy: 0.7601 - val_loss: 0.9370 - val_accuracy: 0.6891\n",
      "Epoch 46/100\n",
      "391/391 - 2s - loss: 0.6607 - accuracy: 0.7643 - val_loss: 0.9446 - val_accuracy: 0.6848\n",
      "Epoch 47/100\n",
      "391/391 - 2s - loss: 0.6623 - accuracy: 0.7617 - val_loss: 0.9377 - val_accuracy: 0.6850\n",
      "Epoch 48/100\n",
      "391/391 - 2s - loss: 0.6542 - accuracy: 0.7648 - val_loss: 0.9404 - val_accuracy: 0.6838\n",
      "Epoch 49/100\n",
      "391/391 - 2s - loss: 0.6537 - accuracy: 0.7665 - val_loss: 0.9652 - val_accuracy: 0.6833\n",
      "Epoch 50/100\n",
      "391/391 - 2s - loss: 0.6490 - accuracy: 0.7673 - val_loss: 0.9638 - val_accuracy: 0.6890\n",
      "Epoch 51/100\n",
      "391/391 - 2s - loss: 0.6407 - accuracy: 0.7679 - val_loss: 0.9451 - val_accuracy: 0.6937\n",
      "Epoch 52/100\n",
      "391/391 - 2s - loss: 0.6394 - accuracy: 0.7723 - val_loss: 0.9423 - val_accuracy: 0.6903\n",
      "Epoch 53/100\n",
      "391/391 - 2s - loss: 0.6419 - accuracy: 0.7698 - val_loss: 0.9556 - val_accuracy: 0.6888\n",
      "Epoch 54/100\n",
      "391/391 - 2s - loss: 0.6352 - accuracy: 0.7701 - val_loss: 0.9495 - val_accuracy: 0.6879\n",
      "Epoch 55/100\n",
      "391/391 - 2s - loss: 0.6287 - accuracy: 0.7743 - val_loss: 0.9524 - val_accuracy: 0.6920\n",
      "Epoch 56/100\n",
      "391/391 - 2s - loss: 0.6329 - accuracy: 0.7714 - val_loss: 0.9926 - val_accuracy: 0.6836\n",
      "Epoch 57/100\n",
      "391/391 - 2s - loss: 0.6292 - accuracy: 0.7735 - val_loss: 0.9398 - val_accuracy: 0.6913\n",
      "Epoch 58/100\n",
      "391/391 - 2s - loss: 0.6219 - accuracy: 0.7772 - val_loss: 0.9659 - val_accuracy: 0.6862\n",
      "Epoch 59/100\n",
      "391/391 - 2s - loss: 0.6127 - accuracy: 0.7801 - val_loss: 0.9712 - val_accuracy: 0.6805\n",
      "Epoch 60/100\n",
      "391/391 - 2s - loss: 0.6107 - accuracy: 0.7802 - val_loss: 0.9852 - val_accuracy: 0.6855\n",
      "Epoch 61/100\n",
      "391/391 - 2s - loss: 0.6208 - accuracy: 0.7775 - val_loss: 0.9662 - val_accuracy: 0.6901\n",
      "Epoch 62/100\n",
      "391/391 - 2s - loss: 0.6115 - accuracy: 0.7819 - val_loss: 0.9495 - val_accuracy: 0.6931\n",
      "Epoch 63/100\n",
      "391/391 - 2s - loss: 0.6140 - accuracy: 0.7775 - val_loss: 0.9691 - val_accuracy: 0.6875\n",
      "Epoch 64/100\n",
      "391/391 - 2s - loss: 0.6027 - accuracy: 0.7842 - val_loss: 0.9679 - val_accuracy: 0.6939\n",
      "Epoch 65/100\n",
      "391/391 - 2s - loss: 0.6001 - accuracy: 0.7840 - val_loss: 0.9846 - val_accuracy: 0.6916\n",
      "Epoch 66/100\n",
      "391/391 - 2s - loss: 0.6064 - accuracy: 0.7842 - val_loss: 0.9791 - val_accuracy: 0.6877\n",
      "Epoch 67/100\n",
      "391/391 - 2s - loss: 0.5979 - accuracy: 0.7842 - val_loss: 0.9762 - val_accuracy: 0.6884\n",
      "Epoch 68/100\n",
      "391/391 - 2s - loss: 0.5998 - accuracy: 0.7830 - val_loss: 0.9595 - val_accuracy: 0.6900\n",
      "Epoch 69/100\n",
      "391/391 - 2s - loss: 0.5978 - accuracy: 0.7846 - val_loss: 0.9634 - val_accuracy: 0.6877\n",
      "Epoch 70/100\n",
      "391/391 - 2s - loss: 0.5971 - accuracy: 0.7858 - val_loss: 0.9807 - val_accuracy: 0.6898\n",
      "Epoch 71/100\n",
      "391/391 - 2s - loss: 0.5849 - accuracy: 0.7920 - val_loss: 0.9613 - val_accuracy: 0.6902\n",
      "Epoch 72/100\n",
      "391/391 - 2s - loss: 0.5947 - accuracy: 0.7864 - val_loss: 0.9655 - val_accuracy: 0.6939\n",
      "Epoch 73/100\n",
      "391/391 - 2s - loss: 0.5846 - accuracy: 0.7894 - val_loss: 0.9553 - val_accuracy: 0.6896\n",
      "Epoch 74/100\n",
      "391/391 - 2s - loss: 0.5843 - accuracy: 0.7893 - val_loss: 1.0037 - val_accuracy: 0.6907\n",
      "Epoch 75/100\n",
      "391/391 - 2s - loss: 0.5806 - accuracy: 0.7907 - val_loss: 1.0270 - val_accuracy: 0.6885\n",
      "Epoch 76/100\n",
      "391/391 - 2s - loss: 0.5880 - accuracy: 0.7894 - val_loss: 0.9914 - val_accuracy: 0.6834\n",
      "Epoch 77/100\n",
      "391/391 - 2s - loss: 0.5779 - accuracy: 0.7905 - val_loss: 0.9792 - val_accuracy: 0.6882\n",
      "Epoch 78/100\n",
      "391/391 - 2s - loss: 0.5832 - accuracy: 0.7903 - val_loss: 0.9786 - val_accuracy: 0.6906\n",
      "Epoch 79/100\n",
      "391/391 - 2s - loss: 0.5764 - accuracy: 0.7934 - val_loss: 0.9817 - val_accuracy: 0.6900\n",
      "Epoch 80/100\n",
      "391/391 - 2s - loss: 0.5723 - accuracy: 0.7954 - val_loss: 0.9757 - val_accuracy: 0.6893\n"
     ]
    },
    {
     "name": "stdout",
     "output_type": "stream",
     "text": [
      "Epoch 81/100\n",
      "391/391 - 2s - loss: 0.5743 - accuracy: 0.7927 - val_loss: 0.9563 - val_accuracy: 0.6941\n",
      "Epoch 82/100\n",
      "391/391 - 2s - loss: 0.5687 - accuracy: 0.7953 - val_loss: 0.9719 - val_accuracy: 0.6886\n",
      "Epoch 83/100\n",
      "391/391 - 2s - loss: 0.5655 - accuracy: 0.7979 - val_loss: 1.0007 - val_accuracy: 0.6867\n",
      "Epoch 84/100\n",
      "391/391 - 2s - loss: 0.5590 - accuracy: 0.8000 - val_loss: 0.9767 - val_accuracy: 0.6963\n",
      "Epoch 85/100\n",
      "391/391 - 2s - loss: 0.5624 - accuracy: 0.7966 - val_loss: 0.9826 - val_accuracy: 0.6928\n",
      "Epoch 86/100\n",
      "391/391 - 2s - loss: 0.5605 - accuracy: 0.7990 - val_loss: 1.0008 - val_accuracy: 0.6900\n",
      "Epoch 87/100\n",
      "391/391 - 2s - loss: 0.5594 - accuracy: 0.7995 - val_loss: 0.9662 - val_accuracy: 0.6907\n",
      "Epoch 88/100\n",
      "391/391 - 2s - loss: 0.5501 - accuracy: 0.8027 - val_loss: 0.9986 - val_accuracy: 0.6859\n",
      "Epoch 89/100\n",
      "391/391 - 2s - loss: 0.5580 - accuracy: 0.7992 - val_loss: 0.9838 - val_accuracy: 0.6908\n",
      "Epoch 90/100\n",
      "391/391 - 2s - loss: 0.5563 - accuracy: 0.7998 - val_loss: 0.9837 - val_accuracy: 0.6929\n",
      "Epoch 91/100\n",
      "391/391 - 2s - loss: 0.5504 - accuracy: 0.8027 - val_loss: 1.0003 - val_accuracy: 0.6838\n",
      "Epoch 92/100\n",
      "391/391 - 2s - loss: 0.5613 - accuracy: 0.7975 - val_loss: 0.9910 - val_accuracy: 0.6875\n",
      "Epoch 93/100\n",
      "391/391 - 2s - loss: 0.5576 - accuracy: 0.7985 - val_loss: 0.9895 - val_accuracy: 0.6888\n",
      "Epoch 94/100\n",
      "391/391 - 2s - loss: 0.5505 - accuracy: 0.8034 - val_loss: 0.9891 - val_accuracy: 0.6865\n",
      "Epoch 95/100\n",
      "391/391 - 2s - loss: 0.5476 - accuracy: 0.8035 - val_loss: 0.9941 - val_accuracy: 0.6872\n",
      "Epoch 96/100\n",
      "391/391 - 2s - loss: 0.5481 - accuracy: 0.8027 - val_loss: 1.0045 - val_accuracy: 0.6864\n",
      "Epoch 97/100\n",
      "391/391 - 2s - loss: 0.5406 - accuracy: 0.8035 - val_loss: 1.0003 - val_accuracy: 0.6882\n",
      "Epoch 98/100\n",
      "391/391 - 2s - loss: 0.5496 - accuracy: 0.8037 - val_loss: 0.9853 - val_accuracy: 0.6899\n",
      "Epoch 99/100\n",
      "391/391 - 2s - loss: 0.5416 - accuracy: 0.8073 - val_loss: 0.9869 - val_accuracy: 0.6870\n",
      "Epoch 100/100\n",
      "391/391 - 2s - loss: 0.5415 - accuracy: 0.8053 - val_loss: 0.9906 - val_accuracy: 0.6905\n",
      "정확률은 69.0500020980835\n"
     ]
    },
    {
     "data": {
      "image/png": "[encoded data removed]",
      "text/plain": [
       "<Figure size 432x288 with 1 Axes>"
      ]
     },
     "metadata": {
      "needs_background": "light"
     },
     "output_type": "display_data"
    },
    {
     "data": {
      "image/png": "[encoded data removed]",
      "text/plain": [
       "<Figure size 432x288 with 1 Axes>"
      ]
     },
     "metadata": {
      "needs_background": "light"
     },
     "output_type": "display_data"
    }
   ],
   "source": [
    "import numpy as np\n",
    "import tensorflow as tf\n",
    "from tensorflow.keras.datasets import cifar10\n",
    "from tensorflow.keras.models import Sequential\n",
    "from tensorflow.keras.layers import Conv2D,MaxPooling2D,Flatten,Dense,Dropout\n",
    "from tensorflow.keras.optimizers import Adam\n",
    "\n",
    "from six.moves import cPickle as pickle\n",
    "import os\n",
    "import platform\n",
    "classes = ('plane', 'car', 'bird', 'cat',\n",
    "           'deer', 'dog', 'frog', 'horse', 'ship', 'truck')\n",
    "\n",
    "%matplotlib inline\n",
    "\n",
    "\n",
    "img_rows, img_cols = 32, 32\n",
    "input_shape = (img_rows, img_cols, 3)\n",
    "def load_pickle(f):\n",
    "    version = platform.python_version_tuple()\n",
    "    if version[0] == '2':\n",
    "        return  pickle.load(f)\n",
    "    elif version[0] == '3':\n",
    "        return  pickle.load(f, encoding='latin1')\n",
    "    raise ValueError(\"invalid python version: {}\".format(version))\n",
    "\n",
    "def load_CIFAR_batch(filename):\n",
    "    \"\"\" load single batch of cifar \"\"\"\n",
    "    with open(filename, 'rb') as f:\n",
    "        datadict = load_pickle(f)\n",
    "        X = datadict['data']\n",
    "        Y = datadict['labels']\n",
    "        X = X.reshape(10000,3072)\n",
    "        Y = np.array(Y)\n",
    "        return X, Y\n",
    "\n",
    "def load_CIFAR10(ROOT):\n",
    "    \"\"\" load all of cifar \"\"\"\n",
    "    xs = []\n",
    "    ys = []\n",
    "    for b in range(1,6):\n",
    "        f = os.path.join(ROOT, 'data_batch_%d' % (b, ))\n",
    "        X, Y = load_CIFAR_batch(f)\n",
    "        xs.append(X)\n",
    "        ys.append(Y)\n",
    "    Xtr = np.concatenate(xs)\n",
    "    Ytr = np.concatenate(ys)\n",
    "    del X, Y\n",
    "    Xte, Yte = load_CIFAR_batch(os.path.join(ROOT, 'test_batch'))\n",
    "    return Xtr, Ytr, Xte, Yte\n",
    "def get_CIFAR10_data(num_training=50000, num_test=10000):\n",
    "    # Load the raw CIFAR-10 data\n",
    "    cifar10_dir = 'cifar-10-batches-py/'\n",
    "    X_train, y_train, X_test, y_test = load_CIFAR10(cifar10_dir)\n",
    "\n",
    "    # Subsample the data\n",
    "    mask = range(num_training)\n",
    "    X_train = X_train[mask]\n",
    "    y_train = y_train[mask]\n",
    "    mask = range(num_test)\n",
    "    X_test = X_test[mask]\n",
    "    y_test = y_test[mask]\n",
    "\n",
    "    x_train = X_train.astype('float32')\n",
    "    x_test = X_test.astype('float32')\n",
    "\n",
    "    x_train /= 255\n",
    "    x_test /= 255\n",
    "\n",
    "    return x_train, y_train, x_test, y_test\n",
    "\n",
    "\n",
    "# Invoke the above function to get our data.\n",
    "x_train, y_train, x_test, y_test = get_CIFAR10_data()\n",
    "\n",
    "x_train=x_train.reshape(50000,32,32,3)\n",
    "x_test=x_test.reshape(10000,32,32,3)\n",
    "y_train=tf.keras.utils.to_categorical(y_train,10)\n",
    "y_test=tf.keras.utils.to_categorical(y_test,10)\n",
    "\n",
    "# 신경망 모델 설계\n",
    "cnn=Sequential()\n",
    "cnn.add(Conv2D(32,(3,3),activation='relu',input_shape=(32,32,3)))\n",
    "cnn.add(Conv2D(32,(3,3),activation='relu'))\n",
    "cnn.add(MaxPooling2D(pool_size=(2,2)))\n",
    "cnn.add(Dropout(0.25))\n",
    "cnn.add(Conv2D(64,(3,3),activation='relu'))\n",
    "cnn.add(Conv2D(64,(3,3),activation='relu'))\n",
    "cnn.add(MaxPooling2D(pool_size=(2,2)))\n",
    "cnn.add(Dropout(0.25))\n",
    "cnn.add(Flatten())\n",
    "cnn.add(Dense(512,activation='relu'))\n",
    "cnn.add(Dropout(0.5))\n",
    "cnn.add(Dense(10,activation='softmax'))\n",
    "\n",
    "# 신경망 모델 학습\n",
    "cnn.compile(loss='categorical_crossentropy',optimizer=Adam(),metrics=['accuracy'])\n",
    "hist=cnn.fit(x_train,y_train,batch_size=128,epochs=100,validation_data=(x_test,y_test),verbose=2)\n",
    "\n",
    "# 신경망 모델 정확률 평가\n",
    "res=cnn.evaluate(x_test,y_test,verbose=0)\n",
    "print(\"정확률은\",res[1]*100)\n",
    "\n",
    "import matplotlib.pyplot as plt\n",
    "\n",
    "# 정확률 그래프\n",
    "plt.plot(hist.history['accuracy'])\n",
    "plt.plot(hist.history['val_accuracy'])\n",
    "plt.title('Model accuracy')\n",
    "plt.ylabel('Accuracy')\n",
    "plt.xlabel('Epoch')\n",
    "plt.legend(['Train','Validation'], loc='best')\n",
    "plt.grid()\n",
    "plt.show()\n",
    "\n",
    "# 손실 함수 그래프\n",
    "plt.plot(hist.history['loss'])\n",
    "plt.plot(hist.history['val_loss'])\n",
    "plt.title('Model loss')\n",
    "plt.ylabel('Loss')\n",
    "plt.xlabel('Epoch')\n",
    "plt.legend(['Train','Validation'],loc='best')\n",
    "plt.grid()\n",
    "plt.show()\n",
    "cnn.save(\"my_cnn.h5\")"
   ]
  },
  {
   "cell_type": "code",
   "execution_count": 65,
   "id": "f5322749",
   "metadata": {},
   "outputs": [
    {
     "name": "stdout",
     "output_type": "stream",
     "text": [
      "Epoch 1/30\n",
      "391/391 - 2s - loss: 1.6333 - accuracy: 0.4189 - val_loss: 1.3147 - val_accuracy: 0.5398\n",
      "Epoch 2/30\n",
      "391/391 - 2s - loss: 1.3088 - accuracy: 0.5400 - val_loss: 1.1938 - val_accuracy: 0.5823\n",
      "Epoch 3/30\n",
      "391/391 - 2s - loss: 1.1817 - accuracy: 0.5826 - val_loss: 1.0952 - val_accuracy: 0.6146\n",
      "Epoch 4/30\n",
      "391/391 - 2s - loss: 1.0874 - accuracy: 0.6194 - val_loss: 1.0454 - val_accuracy: 0.6345\n",
      "Epoch 5/30\n",
      "391/391 - 2s - loss: 1.0154 - accuracy: 0.6452 - val_loss: 1.0300 - val_accuracy: 0.6440\n",
      "Epoch 6/30\n",
      "391/391 - 2s - loss: 0.9506 - accuracy: 0.6646 - val_loss: 1.0274 - val_accuracy: 0.6418\n",
      "Epoch 7/30\n",
      "391/391 - 2s - loss: 0.8870 - accuracy: 0.6887 - val_loss: 1.0019 - val_accuracy: 0.6532\n",
      "Epoch 8/30\n",
      "391/391 - 2s - loss: 0.8315 - accuracy: 0.7079 - val_loss: 0.9813 - val_accuracy: 0.6609\n",
      "Epoch 9/30\n",
      "391/391 - 2s - loss: 0.7700 - accuracy: 0.7292 - val_loss: 0.9748 - val_accuracy: 0.6631\n",
      "Epoch 10/30\n",
      "391/391 - 2s - loss: 0.7190 - accuracy: 0.7481 - val_loss: 0.9660 - val_accuracy: 0.6685\n",
      "Epoch 11/30\n",
      "391/391 - 2s - loss: 0.6722 - accuracy: 0.7619 - val_loss: 0.9590 - val_accuracy: 0.6750\n",
      "Epoch 12/30\n",
      "391/391 - 2s - loss: 0.6266 - accuracy: 0.7794 - val_loss: 0.9740 - val_accuracy: 0.6732\n",
      "Epoch 13/30\n",
      "391/391 - 2s - loss: 0.5813 - accuracy: 0.7945 - val_loss: 0.9909 - val_accuracy: 0.6727\n",
      "Epoch 14/30\n",
      "391/391 - 2s - loss: 0.5428 - accuracy: 0.8073 - val_loss: 1.0071 - val_accuracy: 0.6734\n",
      "Epoch 15/30\n",
      "391/391 - 2s - loss: 0.5148 - accuracy: 0.8151 - val_loss: 1.0470 - val_accuracy: 0.6740\n",
      "Epoch 16/30\n",
      "391/391 - 2s - loss: 0.4829 - accuracy: 0.8261 - val_loss: 1.0345 - val_accuracy: 0.6732\n",
      "Epoch 17/30\n",
      "391/391 - 2s - loss: 0.4547 - accuracy: 0.8376 - val_loss: 1.0559 - val_accuracy: 0.6701\n",
      "Epoch 18/30\n",
      "391/391 - 2s - loss: 0.4287 - accuracy: 0.8480 - val_loss: 1.0646 - val_accuracy: 0.6717\n",
      "Epoch 19/30\n",
      "391/391 - 2s - loss: 0.4168 - accuracy: 0.8520 - val_loss: 1.1454 - val_accuracy: 0.6638\n",
      "Epoch 20/30\n",
      "391/391 - 2s - loss: 0.3947 - accuracy: 0.8594 - val_loss: 1.1058 - val_accuracy: 0.6672\n",
      "Epoch 21/30\n",
      "391/391 - 2s - loss: 0.3743 - accuracy: 0.8674 - val_loss: 1.1119 - val_accuracy: 0.6708\n",
      "Epoch 22/30\n",
      "391/391 - 2s - loss: 0.3570 - accuracy: 0.8747 - val_loss: 1.1242 - val_accuracy: 0.6693\n",
      "Epoch 23/30\n",
      "391/391 - 2s - loss: 0.3470 - accuracy: 0.8780 - val_loss: 1.1335 - val_accuracy: 0.6649\n",
      "Epoch 24/30\n",
      "391/391 - 2s - loss: 0.3373 - accuracy: 0.8808 - val_loss: 1.1618 - val_accuracy: 0.6674\n",
      "Epoch 25/30\n",
      "391/391 - 2s - loss: 0.3210 - accuracy: 0.8864 - val_loss: 1.2000 - val_accuracy: 0.6604\n",
      "Epoch 26/30\n",
      "391/391 - 2s - loss: 0.3151 - accuracy: 0.8874 - val_loss: 1.2220 - val_accuracy: 0.6722\n",
      "Epoch 27/30\n",
      "391/391 - 2s - loss: 0.3028 - accuracy: 0.8924 - val_loss: 1.1672 - val_accuracy: 0.6668\n",
      "Epoch 28/30\n",
      "391/391 - 2s - loss: 0.2970 - accuracy: 0.8946 - val_loss: 1.2353 - val_accuracy: 0.6671\n",
      "Epoch 29/30\n",
      "391/391 - 2s - loss: 0.2868 - accuracy: 0.8990 - val_loss: 1.2274 - val_accuracy: 0.6715\n",
      "Epoch 30/30\n",
      "391/391 - 2s - loss: 0.2783 - accuracy: 0.9030 - val_loss: 1.2442 - val_accuracy: 0.6635\n",
      "정확률은 66.35000109672546\n"
     ]
    },
    {
     "data": {
      "image/png": "[encoded data removed]",
      "text/plain": [
       "<Figure size 432x288 with 1 Axes>"
      ]
     },
     "metadata": {
      "needs_background": "light"
     },
     "output_type": "display_data"
    },
    {
     "data": {
      "image/png": "[encoded data removed]",
      "text/plain": [
       "<Figure size 432x288 with 1 Axes>"
      ]
     },
     "metadata": {
      "needs_background": "light"
     },
     "output_type": "display_data"
    }
   ],
   "source": [
    "cnn=Sequential()\n",
    "cnn.add(Conv2D(32,(3,3),activation='relu',input_shape=(32,32,3)))\n",
    "cnn.add(Conv2D(32,(3,3),activation='relu'))\n",
    "cnn.add(MaxPooling2D(pool_size=(2,2)))\n",
    "cnn.add(Dropout(0.25))\n",
    "cnn.add(Flatten())\n",
    "cnn.add(Dense(512,activation='relu'))\n",
    "cnn.add(Dropout(0.5))\n",
    "cnn.add(Dense(10,activation='softmax'))\n",
    "\n",
    "# 신경망 모델 학습\n",
    "cnn.compile(loss='categorical_crossentropy',optimizer=Adam(),metrics=['accuracy'])\n",
    "hist=cnn.fit(x_train,y_train,batch_size=128,epochs=30,validation_data=(x_test,y_test),verbose=2)\n",
    "\n",
    "# 신경망 모델 정확률 평가\n",
    "res=cnn.evaluate(x_test,y_test,verbose=0)\n",
    "print(\"정확률은\",res[1]*100)\n",
    "\n",
    "import matplotlib.pyplot as plt\n",
    "\n",
    "# 정확률 그래프\n",
    "plt.plot(hist.history['accuracy'])\n",
    "plt.plot(hist.history['val_accuracy'])\n",
    "plt.title('Model accuracy')\n",
    "plt.ylabel('Accuracy')\n",
    "plt.xlabel('Epoch')\n",
    "plt.legend(['Train','Validation'], loc='best')\n",
    "plt.grid()\n",
    "plt.show()\n",
    "\n",
    "# 손실 함수 그래프\n",
    "plt.plot(hist.history['loss'])\n",
    "plt.plot(hist.history['val_loss'])\n",
    "plt.title('Model loss')\n",
    "plt.ylabel('Loss')\n",
    "plt.xlabel('Epoch')\n",
    "plt.legend(['Train','Validation'],loc='best')\n",
    "plt.grid()\n",
    "plt.show()\n",
    "cnn.save(\"my_cnn.h5\")"
   ]
  },
  {
   "cell_type": "code",
   "execution_count": 66,
   "id": "6c46e859",
   "metadata": {},
   "outputs": [
    {
     "name": "stdout",
     "output_type": "stream",
     "text": [
      "Epoch 1/30\n",
      "391/391 - 2s - loss: 1.7715 - accuracy: 0.3555 - val_loss: 1.4792 - val_accuracy: 0.4786\n",
      "Epoch 2/30\n",
      "391/391 - 2s - loss: 1.4628 - accuracy: 0.4801 - val_loss: 1.3535 - val_accuracy: 0.5223\n",
      "Epoch 3/30\n",
      "391/391 - 2s - loss: 1.3559 - accuracy: 0.5186 - val_loss: 1.2363 - val_accuracy: 0.5629\n",
      "Epoch 4/30\n",
      "391/391 - 2s - loss: 1.2881 - accuracy: 0.5444 - val_loss: 1.1914 - val_accuracy: 0.5775\n",
      "Epoch 5/30\n",
      "391/391 - 2s - loss: 1.2319 - accuracy: 0.5674 - val_loss: 1.1499 - val_accuracy: 0.5935\n",
      "Epoch 6/30\n",
      "391/391 - 2s - loss: 1.1933 - accuracy: 0.5774 - val_loss: 1.1140 - val_accuracy: 0.6101\n",
      "Epoch 7/30\n",
      "391/391 - 2s - loss: 1.1567 - accuracy: 0.5919 - val_loss: 1.1200 - val_accuracy: 0.6034\n",
      "Epoch 8/30\n",
      "391/391 - 2s - loss: 1.1254 - accuracy: 0.6029 - val_loss: 1.0776 - val_accuracy: 0.6224\n",
      "Epoch 9/30\n",
      "391/391 - 2s - loss: 1.0923 - accuracy: 0.6140 - val_loss: 1.0349 - val_accuracy: 0.6401\n",
      "Epoch 10/30\n",
      "391/391 - 2s - loss: 1.0733 - accuracy: 0.6217 - val_loss: 1.0335 - val_accuracy: 0.6380\n",
      "Epoch 11/30\n",
      "391/391 - 2s - loss: 1.0490 - accuracy: 0.6308 - val_loss: 1.0291 - val_accuracy: 0.6404\n",
      "Epoch 12/30\n",
      "391/391 - 2s - loss: 1.0304 - accuracy: 0.6363 - val_loss: 1.0073 - val_accuracy: 0.6497\n",
      "Epoch 13/30\n",
      "391/391 - 2s - loss: 1.0001 - accuracy: 0.6453 - val_loss: 1.0018 - val_accuracy: 0.6513\n",
      "Epoch 14/30\n",
      "391/391 - 2s - loss: 0.9889 - accuracy: 0.6507 - val_loss: 0.9891 - val_accuracy: 0.6571\n",
      "Epoch 15/30\n",
      "391/391 - 2s - loss: 0.9713 - accuracy: 0.6566 - val_loss: 0.9815 - val_accuracy: 0.6589\n",
      "Epoch 16/30\n",
      "391/391 - 2s - loss: 0.9497 - accuracy: 0.6655 - val_loss: 0.9806 - val_accuracy: 0.6605\n",
      "Epoch 17/30\n",
      "391/391 - 2s - loss: 0.9363 - accuracy: 0.6682 - val_loss: 0.9801 - val_accuracy: 0.6647\n",
      "Epoch 18/30\n",
      "391/391 - 2s - loss: 0.9236 - accuracy: 0.6725 - val_loss: 0.9793 - val_accuracy: 0.6630\n",
      "Epoch 19/30\n",
      "391/391 - 2s - loss: 0.9061 - accuracy: 0.6815 - val_loss: 0.9507 - val_accuracy: 0.6665\n",
      "Epoch 20/30\n",
      "391/391 - 2s - loss: 0.8925 - accuracy: 0.6829 - val_loss: 0.9688 - val_accuracy: 0.6661\n",
      "Epoch 21/30\n",
      "391/391 - 2s - loss: 0.8789 - accuracy: 0.6877 - val_loss: 0.9786 - val_accuracy: 0.6633\n",
      "Epoch 22/30\n",
      "391/391 - 2s - loss: 0.8710 - accuracy: 0.6899 - val_loss: 0.9658 - val_accuracy: 0.6693\n",
      "Epoch 23/30\n",
      "391/391 - 2s - loss: 0.8589 - accuracy: 0.6951 - val_loss: 0.9350 - val_accuracy: 0.6762\n",
      "Epoch 24/30\n",
      "391/391 - 2s - loss: 0.8405 - accuracy: 0.7018 - val_loss: 0.9480 - val_accuracy: 0.6726\n",
      "Epoch 25/30\n",
      "391/391 - 2s - loss: 0.8295 - accuracy: 0.7039 - val_loss: 0.9439 - val_accuracy: 0.6763\n",
      "Epoch 26/30\n",
      "391/391 - 2s - loss: 0.8220 - accuracy: 0.7077 - val_loss: 0.9558 - val_accuracy: 0.6710\n",
      "Epoch 27/30\n",
      "391/391 - 2s - loss: 0.8169 - accuracy: 0.7091 - val_loss: 0.9356 - val_accuracy: 0.6807\n",
      "Epoch 28/30\n",
      "391/391 - 2s - loss: 0.8058 - accuracy: 0.7124 - val_loss: 0.9476 - val_accuracy: 0.6777\n",
      "Epoch 29/30\n",
      "391/391 - 2s - loss: 0.7905 - accuracy: 0.7196 - val_loss: 0.9488 - val_accuracy: 0.6793\n",
      "Epoch 30/30\n",
      "391/391 - 2s - loss: 0.7866 - accuracy: 0.7204 - val_loss: 0.9739 - val_accuracy: 0.6741\n",
      "정확률은 67.40999817848206\n"
     ]
    },
    {
     "data": {
      "image/png": "[encoded data removed]",
      "text/plain": [
       "<Figure size 432x288 with 1 Axes>"
      ]
     },
     "metadata": {
      "needs_background": "light"
     },
     "output_type": "display_data"
    },
    {
     "data": {
      "image/png": "[encoded data removed]",
      "text/plain": [
       "<Figure size 432x288 with 1 Axes>"
      ]
     },
     "metadata": {
      "needs_background": "light"
     },
     "output_type": "display_data"
    }
   ],
   "source": [
    "cnn=Sequential()\n",
    "cnn.add(Conv2D(32,(3,3),activation='relu',input_shape=(32,32,3)))\n",
    "cnn.add(MaxPooling2D(pool_size=(2,2)))\n",
    "cnn.add(Dropout(0.25))\n",
    "cnn.add(Conv2D(64,(3,3),activation='relu'))\n",
    "cnn.add(MaxPooling2D(pool_size=(2,2)))\n",
    "cnn.add(Dropout(0.25))\n",
    "cnn.add(Flatten())\n",
    "cnn.add(Dense(512,activation='relu'))\n",
    "cnn.add(Dropout(0.5))\n",
    "cnn.add(Dense(10,activation='softmax'))\n",
    "\n",
    "# 신경망 모델 학습\n",
    "cnn.compile(loss='categorical_crossentropy',optimizer=Adam(),metrics=['accuracy'])\n",
    "hist=cnn.fit(x_train,y_train,batch_size=128,epochs=30,validation_data=(x_test,y_test),verbose=2)\n",
    "\n",
    "# 신경망 모델 정확률 평가\n",
    "res=cnn.evaluate(x_test,y_test,verbose=0)\n",
    "print(\"정확률은\",res[1]*100)\n",
    "\n",
    "import matplotlib.pyplot as plt\n",
    "\n",
    "# 정확률 그래프\n",
    "plt.plot(hist.history['accuracy'])\n",
    "plt.plot(hist.history['val_accuracy'])\n",
    "plt.title('Model accuracy')\n",
    "plt.ylabel('Accuracy')\n",
    "plt.xlabel('Epoch')\n",
    "plt.legend(['Train','Validation'], loc='best')\n",
    "plt.grid()\n",
    "plt.show()\n",
    "\n",
    "# 손실 함수 그래프\n",
    "plt.plot(hist.history['loss'])\n",
    "plt.plot(hist.history['val_loss'])\n",
    "plt.title('Model loss')\n",
    "plt.ylabel('Loss')\n",
    "plt.xlabel('Epoch')\n",
    "plt.legend(['Train','Validation'],loc='best')\n",
    "plt.grid()\n",
    "plt.show()\n",
    "cnn.save(\"my_cnn.h5\")"
   ]
  },
  {
   "cell_type": "code",
   "execution_count": 71,
   "id": "60222ab7",
   "metadata": {},
   "outputs": [
    {
     "ename": "ValueError",
     "evalue": "Negative dimension size caused by subtracting 2 from 1 for '{{node max_pooling2d_80/MaxPool}} = MaxPool[T=DT_FLOAT, data_format=\"NHWC\", explicit_paddings=[], ksize=[1, 2, 2, 1], padding=\"VALID\", strides=[1, 2, 2, 1]](Placeholder)' with input shapes: [?,1,1,128].",
     "output_type": "error",
     "traceback": [
      "\u001b[1;31m---------------------------------------------------------------------------\u001b[0m",
      "\u001b[1;31mInvalidArgumentError\u001b[0m                      Traceback (most recent call last)",
      "\u001b[1;32m~\\anaconda3\\envs\\SeoHan\\lib\\site-packages\\tensorflow\\python\\framework\\ops.py\u001b[0m in \u001b[0;36m_create_c_op\u001b[1;34m(graph, node_def, inputs, control_inputs, op_def)\u001b[0m\n\u001b[0;32m   1879\u001b[0m   \u001b[1;32mtry\u001b[0m\u001b[1;33m:\u001b[0m\u001b[1;33m\u001b[0m\u001b[1;33m\u001b[0m\u001b[0m\n\u001b[1;32m-> 1880\u001b[1;33m     \u001b[0mc_op\u001b[0m \u001b[1;33m=\u001b[0m \u001b[0mpywrap_tf_session\u001b[0m\u001b[1;33m.\u001b[0m\u001b[0mTF_FinishOperation\u001b[0m\u001b[1;33m(\u001b[0m\u001b[0mop_desc\u001b[0m\u001b[1;33m)\u001b[0m\u001b[1;33m\u001b[0m\u001b[1;33m\u001b[0m\u001b[0m\n\u001b[0m\u001b[0;32m   1881\u001b[0m   \u001b[1;32mexcept\u001b[0m \u001b[0merrors\u001b[0m\u001b[1;33m.\u001b[0m\u001b[0mInvalidArgumentError\u001b[0m \u001b[1;32mas\u001b[0m \u001b[0me\u001b[0m\u001b[1;33m:\u001b[0m\u001b[1;33m\u001b[0m\u001b[1;33m\u001b[0m\u001b[0m\n",
      "\u001b[1;31mInvalidArgumentError\u001b[0m: Negative dimension size caused by subtracting 2 from 1 for '{{node max_pooling2d_80/MaxPool}} = MaxPool[T=DT_FLOAT, data_format=\"NHWC\", explicit_paddings=[], ksize=[1, 2, 2, 1], padding=\"VALID\", strides=[1, 2, 2, 1]](Placeholder)' with input shapes: [?,1,1,128].",
      "\nDuring handling of the above exception, another exception occurred:\n",
      "\u001b[1;31mValueError\u001b[0m                                Traceback (most recent call last)",
      "\u001b[1;32m~\\AppData\\Local\\Temp/ipykernel_16764/3168609602.py\u001b[0m in \u001b[0;36m<module>\u001b[1;34m\u001b[0m\n\u001b[0;32m     10\u001b[0m \u001b[0mcnn\u001b[0m\u001b[1;33m.\u001b[0m\u001b[0madd\u001b[0m\u001b[1;33m(\u001b[0m\u001b[0mConv2D\u001b[0m\u001b[1;33m(\u001b[0m\u001b[1;36m128\u001b[0m\u001b[1;33m,\u001b[0m\u001b[1;33m(\u001b[0m\u001b[1;36m3\u001b[0m\u001b[1;33m,\u001b[0m\u001b[1;36m3\u001b[0m\u001b[1;33m)\u001b[0m\u001b[1;33m,\u001b[0m\u001b[0mactivation\u001b[0m\u001b[1;33m=\u001b[0m\u001b[1;34m'relu'\u001b[0m\u001b[1;33m)\u001b[0m\u001b[1;33m)\u001b[0m\u001b[1;33m\u001b[0m\u001b[1;33m\u001b[0m\u001b[0m\n\u001b[0;32m     11\u001b[0m \u001b[0mcnn\u001b[0m\u001b[1;33m.\u001b[0m\u001b[0madd\u001b[0m\u001b[1;33m(\u001b[0m\u001b[0mConv2D\u001b[0m\u001b[1;33m(\u001b[0m\u001b[1;36m128\u001b[0m\u001b[1;33m,\u001b[0m\u001b[1;33m(\u001b[0m\u001b[1;36m3\u001b[0m\u001b[1;33m,\u001b[0m\u001b[1;36m3\u001b[0m\u001b[1;33m)\u001b[0m\u001b[1;33m,\u001b[0m\u001b[0mactivation\u001b[0m\u001b[1;33m=\u001b[0m\u001b[1;34m'relu'\u001b[0m\u001b[1;33m)\u001b[0m\u001b[1;33m)\u001b[0m\u001b[1;33m\u001b[0m\u001b[1;33m\u001b[0m\u001b[0m\n\u001b[1;32m---> 12\u001b[1;33m \u001b[0mcnn\u001b[0m\u001b[1;33m.\u001b[0m\u001b[0madd\u001b[0m\u001b[1;33m(\u001b[0m\u001b[0mMaxPooling2D\u001b[0m\u001b[1;33m(\u001b[0m\u001b[0mpool_size\u001b[0m\u001b[1;33m=\u001b[0m\u001b[1;33m(\u001b[0m\u001b[1;36m2\u001b[0m\u001b[1;33m,\u001b[0m\u001b[1;36m2\u001b[0m\u001b[1;33m)\u001b[0m\u001b[1;33m)\u001b[0m\u001b[1;33m)\u001b[0m\u001b[1;33m\u001b[0m\u001b[1;33m\u001b[0m\u001b[0m\n\u001b[0m\u001b[0;32m     13\u001b[0m \u001b[0mcnn\u001b[0m\u001b[1;33m.\u001b[0m\u001b[0madd\u001b[0m\u001b[1;33m(\u001b[0m\u001b[0mDropout\u001b[0m\u001b[1;33m(\u001b[0m\u001b[1;36m0.25\u001b[0m\u001b[1;33m)\u001b[0m\u001b[1;33m)\u001b[0m\u001b[1;33m\u001b[0m\u001b[1;33m\u001b[0m\u001b[0m\n\u001b[0;32m     14\u001b[0m \u001b[0mcnn\u001b[0m\u001b[1;33m.\u001b[0m\u001b[0madd\u001b[0m\u001b[1;33m(\u001b[0m\u001b[0mFlatten\u001b[0m\u001b[1;33m(\u001b[0m\u001b[1;33m)\u001b[0m\u001b[1;33m)\u001b[0m\u001b[1;33m\u001b[0m\u001b[1;33m\u001b[0m\u001b[0m\n",
      "\u001b[1;32m~\\anaconda3\\envs\\SeoHan\\lib\\site-packages\\tensorflow\\python\\training\\tracking\\base.py\u001b[0m in \u001b[0;36m_method_wrapper\u001b[1;34m(self, *args, **kwargs)\u001b[0m\n\u001b[0;32m    520\u001b[0m     \u001b[0mself\u001b[0m\u001b[1;33m.\u001b[0m\u001b[0m_self_setattr_tracking\u001b[0m \u001b[1;33m=\u001b[0m \u001b[1;32mFalse\u001b[0m  \u001b[1;31m# pylint: disable=protected-access\u001b[0m\u001b[1;33m\u001b[0m\u001b[1;33m\u001b[0m\u001b[0m\n\u001b[0;32m    521\u001b[0m     \u001b[1;32mtry\u001b[0m\u001b[1;33m:\u001b[0m\u001b[1;33m\u001b[0m\u001b[1;33m\u001b[0m\u001b[0m\n\u001b[1;32m--> 522\u001b[1;33m       \u001b[0mresult\u001b[0m \u001b[1;33m=\u001b[0m \u001b[0mmethod\u001b[0m\u001b[1;33m(\u001b[0m\u001b[0mself\u001b[0m\u001b[1;33m,\u001b[0m \u001b[1;33m*\u001b[0m\u001b[0margs\u001b[0m\u001b[1;33m,\u001b[0m \u001b[1;33m**\u001b[0m\u001b[0mkwargs\u001b[0m\u001b[1;33m)\u001b[0m\u001b[1;33m\u001b[0m\u001b[1;33m\u001b[0m\u001b[0m\n\u001b[0m\u001b[0;32m    523\u001b[0m     \u001b[1;32mfinally\u001b[0m\u001b[1;33m:\u001b[0m\u001b[1;33m\u001b[0m\u001b[1;33m\u001b[0m\u001b[0m\n\u001b[0;32m    524\u001b[0m       \u001b[0mself\u001b[0m\u001b[1;33m.\u001b[0m\u001b[0m_self_setattr_tracking\u001b[0m \u001b[1;33m=\u001b[0m \u001b[0mprevious_value\u001b[0m  \u001b[1;31m# pylint: disable=protected-access\u001b[0m\u001b[1;33m\u001b[0m\u001b[1;33m\u001b[0m\u001b[0m\n",
      "\u001b[1;32m~\\anaconda3\\envs\\SeoHan\\lib\\site-packages\\tensorflow\\python\\keras\\engine\\sequential.py\u001b[0m in \u001b[0;36madd\u001b[1;34m(self, layer)\u001b[0m\n\u001b[0;32m    226\u001b[0m       \u001b[1;31m# If the model is being built continuously on top of an input layer:\u001b[0m\u001b[1;33m\u001b[0m\u001b[1;33m\u001b[0m\u001b[1;33m\u001b[0m\u001b[0m\n\u001b[0;32m    227\u001b[0m       \u001b[1;31m# refresh its output.\u001b[0m\u001b[1;33m\u001b[0m\u001b[1;33m\u001b[0m\u001b[1;33m\u001b[0m\u001b[0m\n\u001b[1;32m--> 228\u001b[1;33m       \u001b[0moutput_tensor\u001b[0m \u001b[1;33m=\u001b[0m \u001b[0mlayer\u001b[0m\u001b[1;33m(\u001b[0m\u001b[0mself\u001b[0m\u001b[1;33m.\u001b[0m\u001b[0moutputs\u001b[0m\u001b[1;33m[\u001b[0m\u001b[1;36m0\u001b[0m\u001b[1;33m]\u001b[0m\u001b[1;33m)\u001b[0m\u001b[1;33m\u001b[0m\u001b[1;33m\u001b[0m\u001b[0m\n\u001b[0m\u001b[0;32m    229\u001b[0m       \u001b[1;32mif\u001b[0m \u001b[0mlen\u001b[0m\u001b[1;33m(\u001b[0m\u001b[0mnest\u001b[0m\u001b[1;33m.\u001b[0m\u001b[0mflatten\u001b[0m\u001b[1;33m(\u001b[0m\u001b[0moutput_tensor\u001b[0m\u001b[1;33m)\u001b[0m\u001b[1;33m)\u001b[0m \u001b[1;33m!=\u001b[0m \u001b[1;36m1\u001b[0m\u001b[1;33m:\u001b[0m\u001b[1;33m\u001b[0m\u001b[1;33m\u001b[0m\u001b[0m\n\u001b[0;32m    230\u001b[0m         \u001b[1;32mraise\u001b[0m \u001b[0mValueError\u001b[0m\u001b[1;33m(\u001b[0m\u001b[0mSINGLE_LAYER_OUTPUT_ERROR_MSG\u001b[0m\u001b[1;33m)\u001b[0m\u001b[1;33m\u001b[0m\u001b[1;33m\u001b[0m\u001b[0m\n",
      "\u001b[1;32m~\\anaconda3\\envs\\SeoHan\\lib\\site-packages\\tensorflow\\python\\keras\\engine\\base_layer.py\u001b[0m in \u001b[0;36m__call__\u001b[1;34m(self, *args, **kwargs)\u001b[0m\n\u001b[0;32m    968\u001b[0m     \u001b[1;32mif\u001b[0m \u001b[0m_in_functional_construction_mode\u001b[0m\u001b[1;33m(\u001b[0m\u001b[0mself\u001b[0m\u001b[1;33m,\u001b[0m \u001b[0minputs\u001b[0m\u001b[1;33m,\u001b[0m \u001b[0margs\u001b[0m\u001b[1;33m,\u001b[0m \u001b[0mkwargs\u001b[0m\u001b[1;33m,\u001b[0m \u001b[0minput_list\u001b[0m\u001b[1;33m)\u001b[0m\u001b[1;33m:\u001b[0m\u001b[1;33m\u001b[0m\u001b[1;33m\u001b[0m\u001b[0m\n\u001b[0;32m    969\u001b[0m       return self._functional_construction_call(inputs, args, kwargs,\n\u001b[1;32m--> 970\u001b[1;33m                                                 input_list)\n\u001b[0m\u001b[0;32m    971\u001b[0m \u001b[1;33m\u001b[0m\u001b[0m\n\u001b[0;32m    972\u001b[0m     \u001b[1;31m# Maintains info about the `Layer.call` stack.\u001b[0m\u001b[1;33m\u001b[0m\u001b[1;33m\u001b[0m\u001b[1;33m\u001b[0m\u001b[0m\n",
      "\u001b[1;32m~\\anaconda3\\envs\\SeoHan\\lib\\site-packages\\tensorflow\\python\\keras\\engine\\base_layer.py\u001b[0m in \u001b[0;36m_functional_construction_call\u001b[1;34m(self, inputs, args, kwargs, input_list)\u001b[0m\n\u001b[0;32m   1106\u001b[0m       \u001b[1;31m# Check input assumptions set after layer building, e.g. input shape.\u001b[0m\u001b[1;33m\u001b[0m\u001b[1;33m\u001b[0m\u001b[1;33m\u001b[0m\u001b[0m\n\u001b[0;32m   1107\u001b[0m       outputs = self._keras_tensor_symbolic_call(\n\u001b[1;32m-> 1108\u001b[1;33m           inputs, input_masks, args, kwargs)\n\u001b[0m\u001b[0;32m   1109\u001b[0m \u001b[1;33m\u001b[0m\u001b[0m\n\u001b[0;32m   1110\u001b[0m       \u001b[1;32mif\u001b[0m \u001b[0moutputs\u001b[0m \u001b[1;32mis\u001b[0m \u001b[1;32mNone\u001b[0m\u001b[1;33m:\u001b[0m\u001b[1;33m\u001b[0m\u001b[1;33m\u001b[0m\u001b[0m\n",
      "\u001b[1;32m~\\anaconda3\\envs\\SeoHan\\lib\\site-packages\\tensorflow\\python\\keras\\engine\\base_layer.py\u001b[0m in \u001b[0;36m_keras_tensor_symbolic_call\u001b[1;34m(self, inputs, input_masks, args, kwargs)\u001b[0m\n\u001b[0;32m    838\u001b[0m       \u001b[1;32mreturn\u001b[0m \u001b[0mnest\u001b[0m\u001b[1;33m.\u001b[0m\u001b[0mmap_structure\u001b[0m\u001b[1;33m(\u001b[0m\u001b[0mkeras_tensor\u001b[0m\u001b[1;33m.\u001b[0m\u001b[0mKerasTensor\u001b[0m\u001b[1;33m,\u001b[0m \u001b[0moutput_signature\u001b[0m\u001b[1;33m)\u001b[0m\u001b[1;33m\u001b[0m\u001b[1;33m\u001b[0m\u001b[0m\n\u001b[0;32m    839\u001b[0m     \u001b[1;32melse\u001b[0m\u001b[1;33m:\u001b[0m\u001b[1;33m\u001b[0m\u001b[1;33m\u001b[0m\u001b[0m\n\u001b[1;32m--> 840\u001b[1;33m       \u001b[1;32mreturn\u001b[0m \u001b[0mself\u001b[0m\u001b[1;33m.\u001b[0m\u001b[0m_infer_output_signature\u001b[0m\u001b[1;33m(\u001b[0m\u001b[0minputs\u001b[0m\u001b[1;33m,\u001b[0m \u001b[0margs\u001b[0m\u001b[1;33m,\u001b[0m \u001b[0mkwargs\u001b[0m\u001b[1;33m,\u001b[0m \u001b[0minput_masks\u001b[0m\u001b[1;33m)\u001b[0m\u001b[1;33m\u001b[0m\u001b[1;33m\u001b[0m\u001b[0m\n\u001b[0m\u001b[0;32m    841\u001b[0m \u001b[1;33m\u001b[0m\u001b[0m\n\u001b[0;32m    842\u001b[0m   \u001b[1;32mdef\u001b[0m \u001b[0m_infer_output_signature\u001b[0m\u001b[1;33m(\u001b[0m\u001b[0mself\u001b[0m\u001b[1;33m,\u001b[0m \u001b[0minputs\u001b[0m\u001b[1;33m,\u001b[0m \u001b[0margs\u001b[0m\u001b[1;33m,\u001b[0m \u001b[0mkwargs\u001b[0m\u001b[1;33m,\u001b[0m \u001b[0minput_masks\u001b[0m\u001b[1;33m)\u001b[0m\u001b[1;33m:\u001b[0m\u001b[1;33m\u001b[0m\u001b[1;33m\u001b[0m\u001b[0m\n",
      "\u001b[1;32m~\\anaconda3\\envs\\SeoHan\\lib\\site-packages\\tensorflow\\python\\keras\\engine\\base_layer.py\u001b[0m in \u001b[0;36m_infer_output_signature\u001b[1;34m(self, inputs, args, kwargs, input_masks)\u001b[0m\n\u001b[0;32m    878\u001b[0m           \u001b[0mself\u001b[0m\u001b[1;33m.\u001b[0m\u001b[0m_maybe_build\u001b[0m\u001b[1;33m(\u001b[0m\u001b[0minputs\u001b[0m\u001b[1;33m)\u001b[0m\u001b[1;33m\u001b[0m\u001b[1;33m\u001b[0m\u001b[0m\n\u001b[0;32m    879\u001b[0m           \u001b[0minputs\u001b[0m \u001b[1;33m=\u001b[0m \u001b[0mself\u001b[0m\u001b[1;33m.\u001b[0m\u001b[0m_maybe_cast_inputs\u001b[0m\u001b[1;33m(\u001b[0m\u001b[0minputs\u001b[0m\u001b[1;33m)\u001b[0m\u001b[1;33m\u001b[0m\u001b[1;33m\u001b[0m\u001b[0m\n\u001b[1;32m--> 880\u001b[1;33m           \u001b[0moutputs\u001b[0m \u001b[1;33m=\u001b[0m \u001b[0mcall_fn\u001b[0m\u001b[1;33m(\u001b[0m\u001b[0minputs\u001b[0m\u001b[1;33m,\u001b[0m \u001b[1;33m*\u001b[0m\u001b[0margs\u001b[0m\u001b[1;33m,\u001b[0m \u001b[1;33m**\u001b[0m\u001b[0mkwargs\u001b[0m\u001b[1;33m)\u001b[0m\u001b[1;33m\u001b[0m\u001b[1;33m\u001b[0m\u001b[0m\n\u001b[0m\u001b[0;32m    881\u001b[0m \u001b[1;33m\u001b[0m\u001b[0m\n\u001b[0;32m    882\u001b[0m         \u001b[0mself\u001b[0m\u001b[1;33m.\u001b[0m\u001b[0m_handle_activity_regularization\u001b[0m\u001b[1;33m(\u001b[0m\u001b[0minputs\u001b[0m\u001b[1;33m,\u001b[0m \u001b[0moutputs\u001b[0m\u001b[1;33m)\u001b[0m\u001b[1;33m\u001b[0m\u001b[1;33m\u001b[0m\u001b[0m\n",
      "\u001b[1;32m~\\anaconda3\\envs\\SeoHan\\lib\\site-packages\\tensorflow\\python\\keras\\layers\\pooling.py\u001b[0m in \u001b[0;36mcall\u001b[1;34m(self, inputs)\u001b[0m\n\u001b[0;32m    361\u001b[0m         \u001b[0mstrides\u001b[0m\u001b[1;33m=\u001b[0m\u001b[0mstrides\u001b[0m\u001b[1;33m,\u001b[0m\u001b[1;33m\u001b[0m\u001b[1;33m\u001b[0m\u001b[0m\n\u001b[0;32m    362\u001b[0m         \u001b[0mpadding\u001b[0m\u001b[1;33m=\u001b[0m\u001b[0mself\u001b[0m\u001b[1;33m.\u001b[0m\u001b[0mpadding\u001b[0m\u001b[1;33m.\u001b[0m\u001b[0mupper\u001b[0m\u001b[1;33m(\u001b[0m\u001b[1;33m)\u001b[0m\u001b[1;33m,\u001b[0m\u001b[1;33m\u001b[0m\u001b[1;33m\u001b[0m\u001b[0m\n\u001b[1;32m--> 363\u001b[1;33m         data_format=conv_utils.convert_data_format(self.data_format, 4))\n\u001b[0m\u001b[0;32m    364\u001b[0m     \u001b[1;32mreturn\u001b[0m \u001b[0moutputs\u001b[0m\u001b[1;33m\u001b[0m\u001b[1;33m\u001b[0m\u001b[0m\n\u001b[0;32m    365\u001b[0m \u001b[1;33m\u001b[0m\u001b[0m\n",
      "\u001b[1;32m~\\anaconda3\\envs\\SeoHan\\lib\\site-packages\\tensorflow\\python\\util\\dispatch.py\u001b[0m in \u001b[0;36mwrapper\u001b[1;34m(*args, **kwargs)\u001b[0m\n\u001b[0;32m    204\u001b[0m     \u001b[1;34m\"\"\"Call target, and fall back on dispatchers if there is a TypeError.\"\"\"\u001b[0m\u001b[1;33m\u001b[0m\u001b[1;33m\u001b[0m\u001b[0m\n\u001b[0;32m    205\u001b[0m     \u001b[1;32mtry\u001b[0m\u001b[1;33m:\u001b[0m\u001b[1;33m\u001b[0m\u001b[1;33m\u001b[0m\u001b[0m\n\u001b[1;32m--> 206\u001b[1;33m       \u001b[1;32mreturn\u001b[0m \u001b[0mtarget\u001b[0m\u001b[1;33m(\u001b[0m\u001b[1;33m*\u001b[0m\u001b[0margs\u001b[0m\u001b[1;33m,\u001b[0m \u001b[1;33m**\u001b[0m\u001b[0mkwargs\u001b[0m\u001b[1;33m)\u001b[0m\u001b[1;33m\u001b[0m\u001b[1;33m\u001b[0m\u001b[0m\n\u001b[0m\u001b[0;32m    207\u001b[0m     \u001b[1;32mexcept\u001b[0m \u001b[1;33m(\u001b[0m\u001b[0mTypeError\u001b[0m\u001b[1;33m,\u001b[0m \u001b[0mValueError\u001b[0m\u001b[1;33m)\u001b[0m\u001b[1;33m:\u001b[0m\u001b[1;33m\u001b[0m\u001b[1;33m\u001b[0m\u001b[0m\n\u001b[0;32m    208\u001b[0m       \u001b[1;31m# Note: convert_to_eager_tensor currently raises a ValueError, not a\u001b[0m\u001b[1;33m\u001b[0m\u001b[1;33m\u001b[0m\u001b[1;33m\u001b[0m\u001b[0m\n",
      "\u001b[1;32m~\\anaconda3\\envs\\SeoHan\\lib\\site-packages\\tensorflow\\python\\ops\\nn_ops.py\u001b[0m in \u001b[0;36mmax_pool\u001b[1;34m(value, ksize, strides, padding, data_format, name, input)\u001b[0m\n\u001b[0;32m   4658\u001b[0m         \u001b[0mexplicit_paddings\u001b[0m\u001b[1;33m=\u001b[0m\u001b[0mexplicit_paddings\u001b[0m\u001b[1;33m,\u001b[0m\u001b[1;33m\u001b[0m\u001b[1;33m\u001b[0m\u001b[0m\n\u001b[0;32m   4659\u001b[0m         \u001b[0mdata_format\u001b[0m\u001b[1;33m=\u001b[0m\u001b[0mdata_format\u001b[0m\u001b[1;33m,\u001b[0m\u001b[1;33m\u001b[0m\u001b[1;33m\u001b[0m\u001b[0m\n\u001b[1;32m-> 4660\u001b[1;33m         name=name)\n\u001b[0m\u001b[0;32m   4661\u001b[0m \u001b[1;33m\u001b[0m\u001b[0m\n\u001b[0;32m   4662\u001b[0m \u001b[1;33m\u001b[0m\u001b[0m\n",
      "\u001b[1;32m~\\anaconda3\\envs\\SeoHan\\lib\\site-packages\\tensorflow\\python\\ops\\gen_nn_ops.py\u001b[0m in \u001b[0;36mmax_pool\u001b[1;34m(input, ksize, strides, padding, explicit_paddings, data_format, name)\u001b[0m\n\u001b[0;32m   5341\u001b[0m         \u001b[1;34m\"MaxPool\"\u001b[0m\u001b[1;33m,\u001b[0m \u001b[0minput\u001b[0m\u001b[1;33m=\u001b[0m\u001b[0minput\u001b[0m\u001b[1;33m,\u001b[0m \u001b[0mksize\u001b[0m\u001b[1;33m=\u001b[0m\u001b[0mksize\u001b[0m\u001b[1;33m,\u001b[0m \u001b[0mstrides\u001b[0m\u001b[1;33m=\u001b[0m\u001b[0mstrides\u001b[0m\u001b[1;33m,\u001b[0m \u001b[0mpadding\u001b[0m\u001b[1;33m=\u001b[0m\u001b[0mpadding\u001b[0m\u001b[1;33m,\u001b[0m\u001b[1;33m\u001b[0m\u001b[1;33m\u001b[0m\u001b[0m\n\u001b[0;32m   5342\u001b[0m                    \u001b[0mexplicit_paddings\u001b[0m\u001b[1;33m=\u001b[0m\u001b[0mexplicit_paddings\u001b[0m\u001b[1;33m,\u001b[0m\u001b[1;33m\u001b[0m\u001b[1;33m\u001b[0m\u001b[0m\n\u001b[1;32m-> 5343\u001b[1;33m                    data_format=data_format, name=name)\n\u001b[0m\u001b[0;32m   5344\u001b[0m   \u001b[0m_result\u001b[0m \u001b[1;33m=\u001b[0m \u001b[0m_outputs\u001b[0m\u001b[1;33m[\u001b[0m\u001b[1;33m:\u001b[0m\u001b[1;33m]\u001b[0m\u001b[1;33m\u001b[0m\u001b[1;33m\u001b[0m\u001b[0m\n\u001b[0;32m   5345\u001b[0m   \u001b[1;32mif\u001b[0m \u001b[0m_execute\u001b[0m\u001b[1;33m.\u001b[0m\u001b[0mmust_record_gradient\u001b[0m\u001b[1;33m(\u001b[0m\u001b[1;33m)\u001b[0m\u001b[1;33m:\u001b[0m\u001b[1;33m\u001b[0m\u001b[1;33m\u001b[0m\u001b[0m\n",
      "\u001b[1;32m~\\anaconda3\\envs\\SeoHan\\lib\\site-packages\\tensorflow\\python\\framework\\op_def_library.py\u001b[0m in \u001b[0;36m_apply_op_helper\u001b[1;34m(op_type_name, name, **keywords)\u001b[0m\n\u001b[0;32m    748\u001b[0m       op = g._create_op_internal(op_type_name, inputs, dtypes=None,\n\u001b[0;32m    749\u001b[0m                                  \u001b[0mname\u001b[0m\u001b[1;33m=\u001b[0m\u001b[0mscope\u001b[0m\u001b[1;33m,\u001b[0m \u001b[0minput_types\u001b[0m\u001b[1;33m=\u001b[0m\u001b[0minput_types\u001b[0m\u001b[1;33m,\u001b[0m\u001b[1;33m\u001b[0m\u001b[1;33m\u001b[0m\u001b[0m\n\u001b[1;32m--> 750\u001b[1;33m                                  attrs=attr_protos, op_def=op_def)\n\u001b[0m\u001b[0;32m    751\u001b[0m \u001b[1;33m\u001b[0m\u001b[0m\n\u001b[0;32m    752\u001b[0m     \u001b[1;31m# `outputs` is returned as a separate return value so that the output\u001b[0m\u001b[1;33m\u001b[0m\u001b[1;33m\u001b[0m\u001b[1;33m\u001b[0m\u001b[0m\n",
      "\u001b[1;32m~\\anaconda3\\envs\\SeoHan\\lib\\site-packages\\tensorflow\\python\\framework\\func_graph.py\u001b[0m in \u001b[0;36m_create_op_internal\u001b[1;34m(self, op_type, inputs, dtypes, input_types, name, attrs, op_def, compute_device)\u001b[0m\n\u001b[0;32m    599\u001b[0m     return super(FuncGraph, self)._create_op_internal(  # pylint: disable=protected-access\n\u001b[0;32m    600\u001b[0m         \u001b[0mop_type\u001b[0m\u001b[1;33m,\u001b[0m \u001b[0mcaptured_inputs\u001b[0m\u001b[1;33m,\u001b[0m \u001b[0mdtypes\u001b[0m\u001b[1;33m,\u001b[0m \u001b[0minput_types\u001b[0m\u001b[1;33m,\u001b[0m \u001b[0mname\u001b[0m\u001b[1;33m,\u001b[0m \u001b[0mattrs\u001b[0m\u001b[1;33m,\u001b[0m \u001b[0mop_def\u001b[0m\u001b[1;33m,\u001b[0m\u001b[1;33m\u001b[0m\u001b[1;33m\u001b[0m\u001b[0m\n\u001b[1;32m--> 601\u001b[1;33m         compute_device)\n\u001b[0m\u001b[0;32m    602\u001b[0m \u001b[1;33m\u001b[0m\u001b[0m\n\u001b[0;32m    603\u001b[0m   \u001b[1;32mdef\u001b[0m \u001b[0mcapture\u001b[0m\u001b[1;33m(\u001b[0m\u001b[0mself\u001b[0m\u001b[1;33m,\u001b[0m \u001b[0mtensor\u001b[0m\u001b[1;33m,\u001b[0m \u001b[0mname\u001b[0m\u001b[1;33m=\u001b[0m\u001b[1;32mNone\u001b[0m\u001b[1;33m,\u001b[0m \u001b[0mshape\u001b[0m\u001b[1;33m=\u001b[0m\u001b[1;32mNone\u001b[0m\u001b[1;33m)\u001b[0m\u001b[1;33m:\u001b[0m\u001b[1;33m\u001b[0m\u001b[1;33m\u001b[0m\u001b[0m\n",
      "\u001b[1;32m~\\anaconda3\\envs\\SeoHan\\lib\\site-packages\\tensorflow\\python\\framework\\ops.py\u001b[0m in \u001b[0;36m_create_op_internal\u001b[1;34m(self, op_type, inputs, dtypes, input_types, name, attrs, op_def, compute_device)\u001b[0m\n\u001b[0;32m   3563\u001b[0m           \u001b[0minput_types\u001b[0m\u001b[1;33m=\u001b[0m\u001b[0minput_types\u001b[0m\u001b[1;33m,\u001b[0m\u001b[1;33m\u001b[0m\u001b[1;33m\u001b[0m\u001b[0m\n\u001b[0;32m   3564\u001b[0m           \u001b[0moriginal_op\u001b[0m\u001b[1;33m=\u001b[0m\u001b[0mself\u001b[0m\u001b[1;33m.\u001b[0m\u001b[0m_default_original_op\u001b[0m\u001b[1;33m,\u001b[0m\u001b[1;33m\u001b[0m\u001b[1;33m\u001b[0m\u001b[0m\n\u001b[1;32m-> 3565\u001b[1;33m           op_def=op_def)\n\u001b[0m\u001b[0;32m   3566\u001b[0m       \u001b[0mself\u001b[0m\u001b[1;33m.\u001b[0m\u001b[0m_create_op_helper\u001b[0m\u001b[1;33m(\u001b[0m\u001b[0mret\u001b[0m\u001b[1;33m,\u001b[0m \u001b[0mcompute_device\u001b[0m\u001b[1;33m=\u001b[0m\u001b[0mcompute_device\u001b[0m\u001b[1;33m)\u001b[0m\u001b[1;33m\u001b[0m\u001b[1;33m\u001b[0m\u001b[0m\n\u001b[0;32m   3567\u001b[0m     \u001b[1;32mreturn\u001b[0m \u001b[0mret\u001b[0m\u001b[1;33m\u001b[0m\u001b[1;33m\u001b[0m\u001b[0m\n",
      "\u001b[1;32m~\\anaconda3\\envs\\SeoHan\\lib\\site-packages\\tensorflow\\python\\framework\\ops.py\u001b[0m in \u001b[0;36m__init__\u001b[1;34m(self, node_def, g, inputs, output_types, control_inputs, input_types, original_op, op_def)\u001b[0m\n\u001b[0;32m   2040\u001b[0m         \u001b[0mop_def\u001b[0m \u001b[1;33m=\u001b[0m \u001b[0mself\u001b[0m\u001b[1;33m.\u001b[0m\u001b[0m_graph\u001b[0m\u001b[1;33m.\u001b[0m\u001b[0m_get_op_def\u001b[0m\u001b[1;33m(\u001b[0m\u001b[0mnode_def\u001b[0m\u001b[1;33m.\u001b[0m\u001b[0mop\u001b[0m\u001b[1;33m)\u001b[0m\u001b[1;33m\u001b[0m\u001b[1;33m\u001b[0m\u001b[0m\n\u001b[0;32m   2041\u001b[0m       self._c_op = _create_c_op(self._graph, node_def, inputs,\n\u001b[1;32m-> 2042\u001b[1;33m                                 control_input_ops, op_def)\n\u001b[0m\u001b[0;32m   2043\u001b[0m       \u001b[0mname\u001b[0m \u001b[1;33m=\u001b[0m \u001b[0mcompat\u001b[0m\u001b[1;33m.\u001b[0m\u001b[0mas_str\u001b[0m\u001b[1;33m(\u001b[0m\u001b[0mnode_def\u001b[0m\u001b[1;33m.\u001b[0m\u001b[0mname\u001b[0m\u001b[1;33m)\u001b[0m\u001b[1;33m\u001b[0m\u001b[1;33m\u001b[0m\u001b[0m\n\u001b[0;32m   2044\u001b[0m \u001b[1;33m\u001b[0m\u001b[0m\n",
      "\u001b[1;32m~\\anaconda3\\envs\\SeoHan\\lib\\site-packages\\tensorflow\\python\\framework\\ops.py\u001b[0m in \u001b[0;36m_create_c_op\u001b[1;34m(graph, node_def, inputs, control_inputs, op_def)\u001b[0m\n\u001b[0;32m   1881\u001b[0m   \u001b[1;32mexcept\u001b[0m \u001b[0merrors\u001b[0m\u001b[1;33m.\u001b[0m\u001b[0mInvalidArgumentError\u001b[0m \u001b[1;32mas\u001b[0m \u001b[0me\u001b[0m\u001b[1;33m:\u001b[0m\u001b[1;33m\u001b[0m\u001b[1;33m\u001b[0m\u001b[0m\n\u001b[0;32m   1882\u001b[0m     \u001b[1;31m# Convert to ValueError for backwards compatibility.\u001b[0m\u001b[1;33m\u001b[0m\u001b[1;33m\u001b[0m\u001b[1;33m\u001b[0m\u001b[0m\n\u001b[1;32m-> 1883\u001b[1;33m     \u001b[1;32mraise\u001b[0m \u001b[0mValueError\u001b[0m\u001b[1;33m(\u001b[0m\u001b[0mstr\u001b[0m\u001b[1;33m(\u001b[0m\u001b[0me\u001b[0m\u001b[1;33m)\u001b[0m\u001b[1;33m)\u001b[0m\u001b[1;33m\u001b[0m\u001b[1;33m\u001b[0m\u001b[0m\n\u001b[0m\u001b[0;32m   1884\u001b[0m \u001b[1;33m\u001b[0m\u001b[0m\n\u001b[0;32m   1885\u001b[0m   \u001b[1;32mreturn\u001b[0m \u001b[0mc_op\u001b[0m\u001b[1;33m\u001b[0m\u001b[1;33m\u001b[0m\u001b[0m\n",
      "\u001b[1;31mValueError\u001b[0m: Negative dimension size caused by subtracting 2 from 1 for '{{node max_pooling2d_80/MaxPool}} = MaxPool[T=DT_FLOAT, data_format=\"NHWC\", explicit_paddings=[], ksize=[1, 2, 2, 1], padding=\"VALID\", strides=[1, 2, 2, 1]](Placeholder)' with input shapes: [?,1,1,128]."
     ]
    }
   ],
   "source": [
    "cnn=Sequential()\n",
    "cnn.add(Conv2D(32,(3,3),activation='relu',input_shape=(32,32,3)))\n",
    "cnn.add(Conv2D(32,(3,3),activation='relu'))\n",
    "cnn.add(MaxPooling2D(pool_size=(2,2)))\n",
    "cnn.add(Dropout(0.25))\n",
    "cnn.add(Conv2D(64,(3,3),activation='relu'))\n",
    "cnn.add(Conv2D(64,(3,3),activation='relu'))\n",
    "cnn.add(MaxPooling2D(pool_size=(2,2)))\n",
    "cnn.add(Dropout(0.25))\n",
    "cnn.add(Conv2D(128,(3,3),activation='relu'))\n",
    "cnn.add(Conv2D(128,(3,3),activation='relu'))\n",
    "cnn.add(MaxPooling2D(pool_size=(2,2)))\n",
    "cnn.add(Dropout(0.25))\n",
    "cnn.add(Flatten())\n",
    "cnn.add(Dense(512,activation='relu'))\n",
    "cnn.add(Dropout(0.5))\n",
    "cnn.add(Dense(10,activation='softmax'))\n",
    "# 신경망 모델 학습\n",
    "cnn.compile(loss='categorical_crossentropy',optimizer=Adam(),metrics=['accuracy'])\n",
    "hist=cnn.fit(x_train,y_train,batch_size=128,epochs=30,validation_data=(x_test,y_test),verbose=2)\n",
    "\n",
    "# 신경망 모델 정확률 평가\n",
    "res=cnn.evaluate(x_test,y_test,verbose=0)\n",
    "print(\"정확률은\",res[1]*100)\n",
    "\n",
    "import matplotlib.pyplot as plt\n",
    "\n",
    "# 정확률 그래프\n",
    "plt.plot(hist.history['accuracy'])\n",
    "plt.plot(hist.history['val_accuracy'])\n",
    "plt.title('Model accuracy')\n",
    "plt.ylabel('Accuracy')\n",
    "plt.xlabel('Epoch')\n",
    "plt.legend(['Train','Validation'], loc='best')\n",
    "plt.grid()\n",
    "plt.show()\n",
    "\n",
    "# 손실 함수 그래프\n",
    "plt.plot(hist.history['loss'])\n",
    "plt.plot(hist.history['val_loss'])\n",
    "plt.title('Model loss')\n",
    "plt.ylabel('Loss')\n",
    "plt.xlabel('Epoch')\n",
    "plt.legend(['Train','Validation'],loc='best')\n",
    "plt.grid()\n",
    "plt.show()\n",
    "cnn.save(\"my_cnn.h5\")"
   ]
  },
  {
   "cell_type": "code",
   "execution_count": null,
   "id": "49286f74",
   "metadata": {},
   "outputs": [],
   "source": [
    "cnn=Sequential()\n",
    "cnn.add(Conv2D(32,(3,3),activation='relu',input_shape=(32,32,3)))\n",
    "cnn.add(MaxPooling2D(pool_size=(2,2)))\n",
    "cnn.add(Dropout(0.25))\n",
    "cnn.add(Conv2D(64,(3,3),activation='relu'))\n",
    "cnn.add(MaxPooling2D(pool_size=(2,2)))\n",
    "cnn.add(Dropout(0.25))\n",
    "cnn.add(Conv2D(64,(3,3),activation='relu'))\n",
    "cnn.add(MaxPooling2D(pool_size=(2,2)))\n",
    "cnn.add(Dropout(0.25))\n",
    "cnn.add(Flatten())\n",
    "cnn.add(Dense(512,activation='relu'))\n",
    "cnn.add(Dropout(0.5))\n",
    "cnn.add(Dense(10,activation='softmax'))\n",
    "\n",
    "# 신경망 모델 학습\n",
    "cnn.compile(loss='categorical_crossentropy',optimizer=Adam(),metrics=['accuracy'])\n",
    "hist=cnn.fit(x_train,y_train,batch_size=128,epochs=30,validation_data=(x_test,y_test),verbose=2)\n",
    "\n",
    "# 신경망 모델 정확률 평가\n",
    "res=cnn.evaluate(x_test,y_test,verbose=0)\n",
    "print(\"정확률은\",res[1]*100)\n",
    "\n",
    "import matplotlib.pyplot as plt\n",
    "\n",
    "# 정확률 그래프\n",
    "plt.plot(hist.history['accuracy'])\n",
    "plt.plot(hist.history['val_accuracy'])\n",
    "plt.title('Model accuracy')\n",
    "plt.ylabel('Accuracy')\n",
    "plt.xlabel('Epoch')\n",
    "plt.legend(['Train','Validation'], loc='best')\n",
    "plt.grid()\n",
    "plt.show()\n",
    "\n",
    "# 손실 함수 그래프\n",
    "plt.plot(hist.history['loss'])\n",
    "plt.plot(hist.history['val_loss'])\n",
    "plt.title('Model loss')\n",
    "plt.ylabel('Loss')\n",
    "plt.xlabel('Epoch')\n",
    "plt.legend(['Train','Validation'],loc='best')\n",
    "plt.grid()\n",
    "plt.show()\n",
    "cnn.save(\"my_cnn.h5\")"
   ]
  },
  {
   "cell_type": "code",
   "execution_count": null,
   "id": "80e53f0d",
   "metadata": {},
   "outputs": [],
   "source": [
    "cnn=Sequential()\n",
    "cnn.add(Conv2D(32,(3,3),activation='relu',input_shape=(32,32,3)))\n",
    "cnn.add(Conv2D(32,(3,3),activation='relu'))\n",
    "cnn.add(MaxPooling2D(pool_size=(2,2)))\n",
    "cnn.add(Dropout(0.25))\n",
    "cnn.add(Conv2D(64,(3,3),activation='relu'))\n",
    "cnn.add(Conv2D(64,(3,3),activation='relu'))\n",
    "cnn.add(MaxPooling2D(pool_size=(2,2)))\n",
    "cnn.add(Dropout(0.25))\n",
    "cnn.add(Flatten())\n",
    "cnn.add(Dense(512,activation='relu'))\n",
    "cnn.add(Dropout(0.5))\n",
    "cnn.add(Dense(10,activation='softmax'))"
   ]
  },
  {
   "cell_type": "code",
   "execution_count": null,
   "id": "a1aa089d",
   "metadata": {},
   "outputs": [],
   "source": [
    "cnn=Sequential()\n",
    "cnn.add(Conv2D(32,(3,3),activation='relu',input_shape=(32,32,3)))\n",
    "cnn.add(Conv2D(32,(3,3),activation='relu'))\n",
    "cnn.add(MaxPooling2D(pool_size=(2,2)))\n",
    "cnn.add(Dropout(0.25))\n",
    "cnn.add(Conv2D(64,(3,3),activation='relu'))\n",
    "cnn.add(Conv2D(64,(3,3),activation='relu'))\n",
    "cnn.add(MaxPooling2D(pool_size=(2,2)))\n",
    "cnn.add(Dropout(0.25))\n",
    "cnn.add(Flatten())\n",
    "cnn.add(Dense(512,activation='relu'))\n",
    "cnn.add(Dropout(0.5))\n",
    "cnn.add(Dense(10,activation='softmax'))"
   ]
  },
  {
   "cell_type": "code",
   "execution_count": null,
   "id": "20005121",
   "metadata": {},
   "outputs": [],
   "source": [
    "cnn=Sequential()\n",
    "cnn.add(Conv2D(32,(3,3),activation='relu',input_shape=(32,32,3)))\n",
    "cnn.add(Conv2D(32,(3,3),activation='relu'))\n",
    "cnn.add(MaxPooling2D(pool_size=(2,2)))\n",
    "cnn.add(Dropout(0.25))\n",
    "cnn.add(Conv2D(64,(3,3),activation='relu'))\n",
    "cnn.add(Conv2D(64,(3,3),activation='relu'))\n",
    "cnn.add(MaxPooling2D(pool_size=(2,2)))\n",
    "cnn.add(Dropout(0.25))\n",
    "cnn.add(Flatten())\n",
    "cnn.add(Dense(512,activation='relu'))\n",
    "cnn.add(Dropout(0.5))\n",
    "cnn.add(Dense(10,activation='softmax'))"
   ]
  },
  {
   "cell_type": "code",
   "execution_count": 8,
   "id": "e48bb756",
   "metadata": {
    "scrolled": false
   },
   "outputs": [
    {
     "name": "stdout",
     "output_type": "stream",
     "text": [
      "Epoch 1/30\n",
      "469/469 - 2s - loss: 0.2289 - accuracy: 0.9264 - val_loss: 0.0388 - val_accuracy: 0.9864\n",
      "Epoch 2/30\n",
      "469/469 - 2s - loss: 0.0622 - accuracy: 0.9808 - val_loss: 0.0363 - val_accuracy: 0.9876\n",
      "Epoch 3/30\n",
      "469/469 - 2s - loss: 0.0465 - accuracy: 0.9855 - val_loss: 0.0246 - val_accuracy: 0.9918\n",
      "Epoch 4/30\n",
      "469/469 - 2s - loss: 0.0378 - accuracy: 0.9885 - val_loss: 0.0213 - val_accuracy: 0.9927\n",
      "Epoch 5/30\n",
      "469/469 - 2s - loss: 0.0333 - accuracy: 0.9902 - val_loss: 0.0182 - val_accuracy: 0.9941\n",
      "Epoch 6/30\n",
      "469/469 - 2s - loss: 0.0289 - accuracy: 0.9914 - val_loss: 0.0209 - val_accuracy: 0.9926\n",
      "Epoch 7/30\n",
      "469/469 - 2s - loss: 0.0260 - accuracy: 0.9916 - val_loss: 0.0223 - val_accuracy: 0.9928\n",
      "Epoch 8/30\n",
      "469/469 - 2s - loss: 0.0241 - accuracy: 0.9921 - val_loss: 0.0176 - val_accuracy: 0.9941\n",
      "Epoch 9/30\n",
      "469/469 - 2s - loss: 0.0213 - accuracy: 0.9934 - val_loss: 0.0173 - val_accuracy: 0.9943\n",
      "Epoch 10/30\n",
      "469/469 - 2s - loss: 0.0208 - accuracy: 0.9937 - val_loss: 0.0204 - val_accuracy: 0.9939\n",
      "Epoch 11/30\n",
      "469/469 - 2s - loss: 0.0180 - accuracy: 0.9942 - val_loss: 0.0166 - val_accuracy: 0.9954\n",
      "Epoch 12/30\n",
      "469/469 - 2s - loss: 0.0173 - accuracy: 0.9945 - val_loss: 0.0189 - val_accuracy: 0.9937\n",
      "Epoch 13/30\n",
      "469/469 - 2s - loss: 0.0177 - accuracy: 0.9943 - val_loss: 0.0164 - val_accuracy: 0.9941\n",
      "Epoch 14/30\n",
      "469/469 - 2s - loss: 0.0152 - accuracy: 0.9952 - val_loss: 0.0190 - val_accuracy: 0.9943\n",
      "Epoch 15/30\n",
      "469/469 - 2s - loss: 0.0154 - accuracy: 0.9953 - val_loss: 0.0207 - val_accuracy: 0.9949\n",
      "Epoch 16/30\n",
      "469/469 - 2s - loss: 0.0131 - accuracy: 0.9958 - val_loss: 0.0182 - val_accuracy: 0.9953\n",
      "Epoch 17/30\n",
      "469/469 - 2s - loss: 0.0141 - accuracy: 0.9955 - val_loss: 0.0220 - val_accuracy: 0.9936\n",
      "Epoch 18/30\n",
      "469/469 - 2s - loss: 0.0118 - accuracy: 0.9959 - val_loss: 0.0205 - val_accuracy: 0.9936\n",
      "Epoch 19/30\n",
      "469/469 - 2s - loss: 0.0114 - accuracy: 0.9963 - val_loss: 0.0198 - val_accuracy: 0.9951\n",
      "Epoch 20/30\n",
      "469/469 - 2s - loss: 0.0129 - accuracy: 0.9958 - val_loss: 0.0226 - val_accuracy: 0.9936\n",
      "Epoch 21/30\n",
      "469/469 - 2s - loss: 0.0105 - accuracy: 0.9966 - val_loss: 0.0233 - val_accuracy: 0.9940\n",
      "Epoch 22/30\n",
      "469/469 - 2s - loss: 0.0104 - accuracy: 0.9966 - val_loss: 0.0200 - val_accuracy: 0.9945\n",
      "Epoch 23/30\n",
      "469/469 - 2s - loss: 0.0108 - accuracy: 0.9964 - val_loss: 0.0194 - val_accuracy: 0.9948\n",
      "Epoch 24/30\n",
      "469/469 - 2s - loss: 0.0109 - accuracy: 0.9968 - val_loss: 0.0217 - val_accuracy: 0.9938\n",
      "Epoch 25/30\n",
      "469/469 - 2s - loss: 0.0094 - accuracy: 0.9966 - val_loss: 0.0193 - val_accuracy: 0.9958\n",
      "Epoch 26/30\n",
      "469/469 - 2s - loss: 0.0098 - accuracy: 0.9969 - val_loss: 0.0185 - val_accuracy: 0.9949\n",
      "Epoch 27/30\n",
      "469/469 - 2s - loss: 0.0091 - accuracy: 0.9969 - val_loss: 0.0213 - val_accuracy: 0.9946\n",
      "Epoch 28/30\n",
      "469/469 - 2s - loss: 0.0098 - accuracy: 0.9967 - val_loss: 0.0193 - val_accuracy: 0.9951\n",
      "Epoch 29/30\n",
      "469/469 - 2s - loss: 0.0083 - accuracy: 0.9974 - val_loss: 0.0247 - val_accuracy: 0.9937\n",
      "Epoch 30/30\n",
      "469/469 - 2s - loss: 0.0099 - accuracy: 0.9970 - val_loss: 0.0229 - val_accuracy: 0.9944\n",
      "Model: \"sequential_7\"\n",
      "_________________________________________________________________\n",
      "Layer (type)                 Output Shape              Param #   \n",
      "=================================================================\n",
      "conv2d_28 (Conv2D)           (None, 26, 26, 32)        320       \n",
      "_________________________________________________________________\n",
      "conv2d_29 (Conv2D)           (None, 24, 24, 32)        9248      \n",
      "_________________________________________________________________\n",
      "max_pooling2d_14 (MaxPooling (None, 12, 12, 32)        0         \n",
      "_________________________________________________________________\n",
      "dropout_21 (Dropout)         (None, 12, 12, 32)        0         \n",
      "_________________________________________________________________\n",
      "conv2d_30 (Conv2D)           (None, 10, 10, 64)        18496     \n",
      "_________________________________________________________________\n",
      "conv2d_31 (Conv2D)           (None, 8, 8, 64)          36928     \n",
      "_________________________________________________________________\n",
      "max_pooling2d_15 (MaxPooling (None, 4, 4, 64)          0         \n",
      "_________________________________________________________________\n",
      "dropout_22 (Dropout)         (None, 4, 4, 64)          0         \n",
      "_________________________________________________________________\n",
      "flatten_7 (Flatten)          (None, 1024)              0         \n",
      "_________________________________________________________________\n",
      "dense_14 (Dense)             (None, 512)               524800    \n",
      "_________________________________________________________________\n",
      "dropout_23 (Dropout)         (None, 512)               0         \n",
      "_________________________________________________________________\n",
      "dense_15 (Dense)             (None, 10)                5130      \n",
      "=================================================================\n",
      "Total params: 594,922\n",
      "Trainable params: 594,922\n",
      "Non-trainable params: 0\n",
      "_________________________________________________________________\n",
      "conv2d_28 (3, 3, 1, 32)\n",
      "conv2d_29 (3, 3, 32, 32)\n",
      "conv2d_30 (3, 3, 32, 64)\n",
      "conv2d_31 (3, 3, 64, 64)\n"
     ]
    },
    {
     "data": {
      "image/png": "[encoded data removed]",
      "text/plain": [
       "<Figure size 1440x216 with 32 Axes>"
      ]
     },
     "metadata": {},
     "output_type": "display_data"
    },
    {
     "name": "stdout",
     "output_type": "stream",
     "text": [
      "conv2d_28 (None, 26, 26, 32)\n",
      "conv2d_29 (None, 24, 24, 32)\n",
      "conv2d_30 (None, 10, 10, 64)\n",
      "conv2d_31 (None, 8, 8, 64)\n",
      "Model: \"model_1\"\n",
      "_________________________________________________________________\n",
      "Layer (type)                 Output Shape              Param #   \n",
      "=================================================================\n",
      "conv2d_28_input (InputLayer) [(None, 28, 28, 1)]       0         \n",
      "_________________________________________________________________\n",
      "conv2d_28 (Conv2D)           (None, 26, 26, 32)        320       \n",
      "=================================================================\n",
      "Total params: 320\n",
      "Trainable params: 320\n",
      "Non-trainable params: 0\n",
      "_________________________________________________________________\n"
     ]
    },
    {
     "data": {
      "image/png": "[encoded data removed]",
      "text/plain": [
       "<Figure size 432x288 with 1 Axes>"
      ]
     },
     "metadata": {
      "needs_background": "light"
     },
     "output_type": "display_data"
    },
    {
     "data": {
      "image/png": "[encoded data removed]",
      "text/plain": [
       "<Figure size 1440x216 with 32 Axes>"
      ]
     },
     "metadata": {},
     "output_type": "display_data"
    }
   ],
   "source": [
    "import numpy as np\n",
    "import tensorflow as tf\n",
    "from tensorflow.keras.datasets import mnist\n",
    "from tensorflow.keras.models import Sequential\n",
    "from tensorflow.keras.layers import Conv2D,MaxPooling2D,Flatten,Dense,Dropout\n",
    "from tensorflow.keras.optimizers import Adam\n",
    "\n",
    "# CIFAR-10 데이터셋을 읽고 신경망에 입력할 형태로 변환\n",
    "(x_train,y_train),(x_test,y_test)=mnist.load_data()\n",
    "x_train=x_train.reshape(60000,28,28,1)\n",
    "x_test=x_test.reshape(10000,28,28,1)\n",
    "x_train=x_train.astype(np.float32)/255.0\n",
    "x_test=x_test.astype(np.float32)/255.0\n",
    "y_train=tf.keras.utils.to_categorical(y_train,10)\n",
    "y_test=tf.keras.utils.to_categorical(y_test,10)\n",
    "\n",
    "# 신경망 모델 설계\n",
    "cnn=Sequential()\n",
    "cnn.add(Conv2D(32,(3,3),activation='relu',input_shape=(28,28,1)))\n",
    "cnn.add(Conv2D(32,(3,3),activation='relu'))\n",
    "cnn.add(MaxPooling2D(pool_size=(2,2)))\n",
    "cnn.add(Dropout(0.25))\n",
    "cnn.add(Conv2D(64,(3,3),activation='relu'))\n",
    "cnn.add(Conv2D(64,(3,3),activation='relu'))\n",
    "cnn.add(MaxPooling2D(pool_size=(2,2)))\n",
    "cnn.add(Dropout(0.25))\n",
    "cnn.add(Flatten())\n",
    "cnn.add(Dense(512,activation='relu'))\n",
    "cnn.add(Dropout(0.5))\n",
    "cnn.add(Dense(10,activation='softmax'))\n",
    "\n",
    "# 신경망 모델 학습\n",
    "cnn.compile(loss='categorical_crossentropy',optimizer=Adam(),metrics=['accuracy'])\n",
    "hist=cnn.fit(x_train,y_train,batch_size=128,epochs=30,validation_data=(x_test,y_test),verbose=2)\n",
    "\n",
    "cnn.summary() # cnn 모델의 정보 출력\n",
    "\n",
    "for layer in cnn.layers: # 컨볼루션층의 커널을 시각화\n",
    "    if 'conv' in layer.name:\n",
    "        kernel,biases=layer.get_weights()\n",
    "        print(layer.name,kernel.shape) # 커널의 텐서 모양을 출력\n",
    "\n",
    "kernel,biases=cnn.layers[0].get_weights() # 층 0의 커널 정보를 저장\n",
    "minv,maxv=kernel.min(),kernel.max()\n",
    "kernel=(kernel-minv)/(maxv-minv)\n",
    "n_kernel=32\n",
    "\n",
    "import matplotlib.pyplot as plt\n",
    "\n",
    "plt.figure(figsize=(20,3))\n",
    "plt.suptitle(\"Kernels of conv2d_4\")\n",
    "for i in range(n_kernel): # i번째 커널\n",
    "    f=kernel[:,:,:,i]\n",
    "    plt.subplot(1,n_kernel,i+1)\n",
    "    plt.imshow(f[:,:],cmap='gray')\n",
    "    plt.xticks([]); plt.yticks([])\n",
    "plt.show()\n",
    "\n",
    "for layer in cnn.layers: # 컨볼루션층의 특징 맵을 시각화\n",
    "    if 'conv' in layer.name:\n",
    "        print(layer.name,layer.output.shape) # 특징 맵의 텐서 모양을 출력\n",
    "\n",
    "from tensorflow.keras.models import Model\n",
    "\n",
    "partial_model=Model(inputs=cnn.inputs,outputs=cnn.layers[0].output) # 층 0만 떼어냄\n",
    "partial_model.summary()\n",
    "\n",
    "feature_map=partial_model.predict(x_test) # 부분 모델로 테스트 집합을 예측\n",
    "fm=feature_map[1] # 1번 영상의 특징 맵을 시각화\n",
    "\n",
    "plt.imshow(x_test[1]) # 1번 영상을 출력\n",
    "\n",
    "plt.figure(figsize=(20,3))\n",
    "plt.suptitle(\"Feature maps of conv2d_4\")\n",
    "for i in range(32): # i번째 특징 맵\n",
    "    plt.subplot(2,16,i+1)\n",
    "    plt.imshow(fm[:,:,i],cmap='gray')\n",
    "    plt.xticks([]); plt.yticks([])\n",
    "    plt.title(\"map\"+str(i))\n",
    "plt.show()"
   ]
  },
  {
   "cell_type": "code",
   "execution_count": 9,
   "id": "fed15ca2",
   "metadata": {
    "scrolled": false
   },
   "outputs": [
    {
     "name": "stdout",
     "output_type": "stream",
     "text": [
      "Epoch 1/12\n",
      "469/469 - 2s - loss: 0.2511 - accuracy: 0.9235 - val_loss: 0.0528 - val_accuracy: 0.9827\n",
      "Epoch 2/12\n",
      "469/469 - 2s - loss: 0.0903 - accuracy: 0.9727 - val_loss: 0.0380 - val_accuracy: 0.9879\n",
      "Epoch 3/12\n",
      "469/469 - 2s - loss: 0.0670 - accuracy: 0.9796 - val_loss: 0.0303 - val_accuracy: 0.9897\n",
      "Epoch 4/12\n",
      "469/469 - 2s - loss: 0.0517 - accuracy: 0.9840 - val_loss: 0.0292 - val_accuracy: 0.9908\n",
      "Epoch 5/12\n",
      "469/469 - 2s - loss: 0.0468 - accuracy: 0.9851 - val_loss: 0.0319 - val_accuracy: 0.9895\n",
      "Epoch 6/12\n",
      "469/469 - 2s - loss: 0.0416 - accuracy: 0.9872 - val_loss: 0.0315 - val_accuracy: 0.9900\n",
      "Epoch 7/12\n",
      "469/469 - 2s - loss: 0.0356 - accuracy: 0.9886 - val_loss: 0.0294 - val_accuracy: 0.9912\n",
      "Epoch 8/12\n",
      "469/469 - 2s - loss: 0.0311 - accuracy: 0.9897 - val_loss: 0.0266 - val_accuracy: 0.9917\n",
      "Epoch 9/12\n",
      "469/469 - 2s - loss: 0.0291 - accuracy: 0.9906 - val_loss: 0.0306 - val_accuracy: 0.9908\n",
      "Epoch 10/12\n",
      "469/469 - 2s - loss: 0.0254 - accuracy: 0.9918 - val_loss: 0.0285 - val_accuracy: 0.9918\n",
      "Epoch 11/12\n",
      "469/469 - 2s - loss: 0.0239 - accuracy: 0.9921 - val_loss: 0.0362 - val_accuracy: 0.9904\n",
      "Epoch 12/12\n",
      "469/469 - 2s - loss: 0.0237 - accuracy: 0.9923 - val_loss: 0.0315 - val_accuracy: 0.9919\n",
      "정확률은 99.19000267982483\n"
     ]
    },
    {
     "data": {
      "image/png": "[encoded data removed]",
      "text/plain": [
       "<Figure size 432x288 with 1 Axes>"
      ]
     },
     "metadata": {
      "needs_background": "light"
     },
     "output_type": "display_data"
    },
    {
     "data": {
      "image/png": "[encoded data removed]",
      "text/plain": [
       "<Figure size 432x288 with 1 Axes>"
      ]
     },
     "metadata": {
      "needs_background": "light"
     },
     "output_type": "display_data"
    }
   ],
   "source": [
    "import numpy as np\n",
    "import tensorflow as tf\n",
    "from tensorflow.keras.datasets import mnist\n",
    "from tensorflow.keras.models import Sequential\n",
    "from tensorflow.keras.layers import Conv2D,MaxPooling2D,Flatten,Dense,Dropout\n",
    "from tensorflow.keras.optimizers import Adam\n",
    "\n",
    "# MNIST 데이터셋을 읽고 신경망에 입력할 형태로 변환\n",
    "(x_train,y_train),(x_test,y_test)=mnist.load_data()\n",
    "x_train=x_train.reshape(60000,28,28,1)\n",
    "x_test=x_test.reshape(10000,28,28,1)\n",
    "x_train=x_train.astype(np.float32)/255.0\n",
    "x_test=x_test.astype(np.float32)/255.0\n",
    "y_train=tf.keras.utils.to_categorical(y_train,10)\n",
    "y_test=tf.keras.utils.to_categorical(y_test,10)\n",
    "\n",
    "# 신경망 모델 설계\n",
    "cnn=Sequential()\n",
    "cnn.add(Conv2D(32,(3,3),activation='relu',input_shape=(28,28,1)))\n",
    "cnn.add(Conv2D(64,(3,3),activation='relu'))\n",
    "cnn.add(MaxPooling2D(pool_size=(2,2)))\n",
    "cnn.add(Dropout(0.25))\n",
    "cnn.add(Flatten())\n",
    "cnn.add(Dense(128,activation='relu'))\n",
    "cnn.add(Dropout(0.5))\n",
    "cnn.add(Dense(10,activation='softmax'))\n",
    "\n",
    "# 신경망 모델 학습\n",
    "cnn.compile(loss='categorical_crossentropy',optimizer=Adam(),metrics=['accuracy'])\n",
    "hist=cnn.fit(x_train,y_train,batch_size=128,epochs=12,validation_data=(x_test,y_test),verbose=2)\n",
    "\n",
    "# 신경망 모델 정확률 평가\n",
    "res=cnn.evaluate(x_test,y_test,verbose=0)\n",
    "print(\"정확률은\",res[1]*100)\n",
    "\n",
    "import matplotlib.pyplot as plt\n",
    "\n",
    "# 정확률 그래프\n",
    "plt.plot(hist.history['accuracy'])\n",
    "plt.plot(hist.history['val_accuracy'])\n",
    "plt.title('Model accuracy')\n",
    "plt.ylabel('Accuracy')\n",
    "plt.xlabel('Epoch')\n",
    "plt.legend(['Train','Validation'], loc='best')\n",
    "plt.grid()\n",
    "plt.show()\n",
    "\n",
    "# 손실 함수 그래프\n",
    "plt.plot(hist.history['loss'])\n",
    "plt.plot(hist.history['val_loss'])\n",
    "plt.title('Model loss')\n",
    "plt.ylabel('Loss')\n",
    "plt.xlabel('Epoch')\n",
    "plt.legend(['Train','Validation'], loc='best')\n",
    "plt.grid()\n",
    "plt.show()"
   ]
  },
  {
   "cell_type": "code",
   "execution_count": 12,
   "id": "aec05a1a",
   "metadata": {
    "scrolled": false
   },
   "outputs": [
    {
     "name": "stdout",
     "output_type": "stream",
     "text": [
      "Epoch 1/30\n",
      "469/469 - 9s - loss: 0.6848 - accuracy: 0.7710 - val_loss: 0.1332 - val_accuracy: 0.9585\n",
      "Epoch 2/30\n",
      "469/469 - 9s - loss: 0.3433 - accuracy: 0.8918 - val_loss: 0.0919 - val_accuracy: 0.9699\n",
      "Epoch 3/30\n",
      "469/469 - 9s - loss: 0.2766 - accuracy: 0.9153 - val_loss: 0.0731 - val_accuracy: 0.9754\n",
      "Epoch 4/30\n",
      "469/469 - 9s - loss: 0.2453 - accuracy: 0.9236 - val_loss: 0.0677 - val_accuracy: 0.9766\n",
      "Epoch 5/30\n",
      "469/469 - 9s - loss: 0.2157 - accuracy: 0.9345 - val_loss: 0.0653 - val_accuracy: 0.9790\n",
      "Epoch 6/30\n",
      "469/469 - 9s - loss: 0.1963 - accuracy: 0.9404 - val_loss: 0.0600 - val_accuracy: 0.9797\n",
      "Epoch 7/30\n",
      "469/469 - 9s - loss: 0.1836 - accuracy: 0.9443 - val_loss: 0.0559 - val_accuracy: 0.9816\n",
      "Epoch 8/30\n",
      "469/469 - 9s - loss: 0.1705 - accuracy: 0.9487 - val_loss: 0.0540 - val_accuracy: 0.9828\n",
      "Epoch 9/30\n",
      "469/469 - 9s - loss: 0.1593 - accuracy: 0.9518 - val_loss: 0.0495 - val_accuracy: 0.9833\n",
      "Epoch 10/30\n",
      "469/469 - 9s - loss: 0.1545 - accuracy: 0.9538 - val_loss: 0.0519 - val_accuracy: 0.9832\n",
      "Epoch 11/30\n",
      "469/469 - 9s - loss: 0.1455 - accuracy: 0.9563 - val_loss: 0.0478 - val_accuracy: 0.9848\n",
      "Epoch 12/30\n",
      "469/469 - 9s - loss: 0.1425 - accuracy: 0.9570 - val_loss: 0.0524 - val_accuracy: 0.9822\n",
      "Epoch 13/30\n",
      "469/469 - 9s - loss: 0.1368 - accuracy: 0.9595 - val_loss: 0.0421 - val_accuracy: 0.9865\n",
      "Epoch 14/30\n",
      "469/469 - 9s - loss: 0.1293 - accuracy: 0.9610 - val_loss: 0.0465 - val_accuracy: 0.9844\n",
      "Epoch 15/30\n",
      "469/469 - 9s - loss: 0.1248 - accuracy: 0.9620 - val_loss: 0.0446 - val_accuracy: 0.9843\n",
      "Epoch 16/30\n",
      "469/469 - 9s - loss: 0.1236 - accuracy: 0.9624 - val_loss: 0.0453 - val_accuracy: 0.9858\n",
      "Epoch 17/30\n",
      "469/469 - 9s - loss: 0.1212 - accuracy: 0.9637 - val_loss: 0.0392 - val_accuracy: 0.9870\n",
      "Epoch 18/30\n",
      "469/469 - 9s - loss: 0.1184 - accuracy: 0.9645 - val_loss: 0.0411 - val_accuracy: 0.9863\n",
      "Epoch 19/30\n",
      "469/469 - 9s - loss: 0.1138 - accuracy: 0.9654 - val_loss: 0.0452 - val_accuracy: 0.9844\n",
      "Epoch 20/30\n",
      "469/469 - 9s - loss: 0.1143 - accuracy: 0.9659 - val_loss: 0.0366 - val_accuracy: 0.9886\n",
      "Epoch 21/30\n",
      "469/469 - 9s - loss: 0.1120 - accuracy: 0.9664 - val_loss: 0.0428 - val_accuracy: 0.9863\n",
      "Epoch 22/30\n",
      "469/469 - 9s - loss: 0.1093 - accuracy: 0.9669 - val_loss: 0.0383 - val_accuracy: 0.9873\n",
      "Epoch 23/30\n",
      "469/469 - 9s - loss: 0.1068 - accuracy: 0.9679 - val_loss: 0.0450 - val_accuracy: 0.9848\n",
      "Epoch 24/30\n",
      "469/469 - 9s - loss: 0.1030 - accuracy: 0.9695 - val_loss: 0.0363 - val_accuracy: 0.9883\n",
      "Epoch 25/30\n",
      "469/469 - 9s - loss: 0.1014 - accuracy: 0.9695 - val_loss: 0.0359 - val_accuracy: 0.9880\n",
      "Epoch 26/30\n",
      "469/469 - 9s - loss: 0.1030 - accuracy: 0.9693 - val_loss: 0.0391 - val_accuracy: 0.9867\n",
      "Epoch 27/30\n",
      "469/469 - 9s - loss: 0.0994 - accuracy: 0.9707 - val_loss: 0.0370 - val_accuracy: 0.9868\n",
      "Epoch 28/30\n",
      "469/469 - 9s - loss: 0.0961 - accuracy: 0.9703 - val_loss: 0.0401 - val_accuracy: 0.9861\n",
      "Epoch 29/30\n",
      "469/469 - 9s - loss: 0.0973 - accuracy: 0.9708 - val_loss: 0.0383 - val_accuracy: 0.9864\n",
      "Epoch 30/30\n",
      "469/469 - 9s - loss: 0.0975 - accuracy: 0.9701 - val_loss: 0.0379 - val_accuracy: 0.9877\n",
      "정확률은 98.76999855041504\n"
     ]
    },
    {
     "data": {
      "image/png": "[encoded data removed]",
      "text/plain": [
       "<Figure size 432x288 with 1 Axes>"
      ]
     },
     "metadata": {
      "needs_background": "light"
     },
     "output_type": "display_data"
    },
    {
     "data": {
      "image/png": "[encoded data removed]",
      "text/plain": [
       "<Figure size 432x288 with 1 Axes>"
      ]
     },
     "metadata": {
      "needs_background": "light"
     },
     "output_type": "display_data"
    }
   ],
   "source": [
    "import numpy as np\n",
    "import tensorflow as tf\n",
    "from tensorflow.keras.datasets import mnist\n",
    "from tensorflow.keras.models import Sequential\n",
    "from tensorflow.keras.layers import Conv2D,MaxPooling2D,Flatten,Dense,Dropout\n",
    "from tensorflow.keras.optimizers import Adam\n",
    "from tensorflow.keras.preprocessing.image import ImageDataGenerator\n",
    "\n",
    "\n",
    "# MNIST 데이터셋을 읽고 신경망에 입력할 형태로 변환\n",
    "(x_train,y_train),(x_test,y_test)=mnist.load_data()\n",
    "x_train=x_train.reshape(60000,28,28,1)\n",
    "x_test=x_test.reshape(10000,28,28,1)\n",
    "x_train=x_train.astype(np.float32)/255.0\n",
    "x_test=x_test.astype(np.float32)/255.0\n",
    "y_train=tf.keras.utils.to_categorical(y_train,10)\n",
    "y_test=tf.keras.utils.to_categorical(y_test,10)\n",
    "\n",
    "# 신경망 모델 설계\n",
    "cnn=Sequential()\n",
    "cnn.add(Conv2D(32,(3,3),activation='relu',input_shape=(28,28,1)))\n",
    "cnn.add(Conv2D(64,(3,3),activation='relu'))\n",
    "cnn.add(MaxPooling2D(pool_size=(2,2)))\n",
    "cnn.add(Dropout(0.25))\n",
    "cnn.add(Flatten())\n",
    "cnn.add(Dense(128,activation='relu'))\n",
    "cnn.add(Dropout(0.5))\n",
    "cnn.add(Dense(10,activation='softmax'))\n",
    "\n",
    "# 신경망 모델 학습(영상 증대기 활용)\n",
    "cnn.compile(loss='categorical_crossentropy',optimizer=Adam(),metrics=['accuracy'])\n",
    "generator=ImageDataGenerator(width_shift_range=0.1,height_shift_range=0.1,horizontal_flip=True)\n",
    "hist=cnn.fit_generator(generator.flow(x_train,y_train,batch_size=128),epochs=30,validation_data=(x_test,y_test),verbose=2)\n",
    "\n",
    "# 신경망 모델 정확률 평가\n",
    "res=cnn.evaluate(x_test,y_test,verbose=0)\n",
    "print(\"정확률은\",res[1]*100)\n",
    "\n",
    "import matplotlib.pyplot as plt\n",
    "\n",
    "# 정확률 그래프\n",
    "plt.plot(hist.history['accuracy'])\n",
    "plt.plot(hist.history['val_accuracy'])\n",
    "plt.title('Model accuracy')\n",
    "plt.ylabel('Accuracy')\n",
    "plt.xlabel('Epoch')\n",
    "plt.legend(['Train','Validation'], loc='best')\n",
    "plt.grid()\n",
    "plt.show()\n",
    "\n",
    "# 손실 함수 그래프\n",
    "plt.plot(hist.history['loss'])\n",
    "plt.plot(hist.history['val_loss'])\n",
    "plt.title('Model loss')\n",
    "plt.ylabel('Loss')\n",
    "plt.xlabel('Epoch')\n",
    "plt.legend(['Train','Validation'], loc='best')\n",
    "plt.grid()\n",
    "plt.show()"
   ]
  }
 ],
 "metadata": {
  "kernelspec": {
   "display_name": "Python 3 (ipykernel)",
   "language": "python",
   "name": "python3"
  },
  "language_info": {
   "codemirror_mode": {
    "name": "ipython",
    "version": 3
   },
   "file_extension": ".py",
   "mimetype": "text/x-python",
   "name": "python",
   "nbconvert_exporter": "python",
   "pygments_lexer": "ipython3",
   "version": "3.7.10"
  }
 },
 "nbformat": 4,
 "nbformat_minor": 5
}
